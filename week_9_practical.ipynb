{
 "cells": [
  {
   "cell_type": "code",
   "execution_count": 1,
   "id": "27efb3a2",
   "metadata": {
    "scrolled": true
   },
   "outputs": [
    {
     "name": "stderr",
     "output_type": "stream",
     "text": [
      "Registered S3 methods overwritten by 'ggplot2':\n",
      "  method         from \n",
      "  [.quosures     rlang\n",
      "  c.quosures     rlang\n",
      "  print.quosures rlang\n",
      "Registered S3 method overwritten by 'rvest':\n",
      "  method            from\n",
      "  read_xml.response xml2\n",
      "── Attaching packages ─────────────────────────────────────── tidyverse 1.2.1 ──\n",
      "✔ ggplot2 3.1.1       ✔ purrr   0.3.2  \n",
      "✔ tibble  2.1.1       ✔ dplyr   0.8.0.1\n",
      "✔ tidyr   0.8.3       ✔ stringr 1.4.0  \n",
      "✔ readr   1.3.1       ✔ forcats 0.4.0  \n",
      "── Conflicts ────────────────────────────────────────── tidyverse_conflicts() ──\n",
      "✖ dplyr::filter() masks stats::filter()\n",
      "✖ dplyr::lag()    masks stats::lag()\n"
     ]
    }
   ],
   "source": [
    "library(tidyverse)"
   ]
  },
  {
   "cell_type": "markdown",
   "id": "b2a92c91",
   "metadata": {},
   "source": [
    "## Question 1"
   ]
  },
  {
   "cell_type": "code",
   "execution_count": 2,
   "id": "04f50d7b",
   "metadata": {
    "scrolled": true
   },
   "outputs": [
    {
     "data": {
      "text/html": [
       "<table>\n",
       "<thead><tr><th scope=col>Sample</th><th scope=col>C1</th><th scope=col>P1</th><th scope=col>P2</th><th scope=col>P3</th><th scope=col>P4</th><th scope=col>P5</th><th scope=col>P6</th><th scope=col>P7</th><th scope=col>P8</th><th scope=col>...</th><th scope=col>exposure</th><th scope=col>salinity</th><th scope=col>temperature</th><th scope=col>NAP</th><th scope=col>penetrability</th><th scope=col>grainsize</th><th scope=col>humus</th><th scope=col>chalk</th><th scope=col>sorting1</th><th scope=col>Beach</th></tr></thead>\n",
       "<tbody>\n",
       "\t<tr><td>1     </td><td>4     </td><td>0     </td><td>0     </td><td>0     </td><td>0     </td><td>0     </td><td>1     </td><td>0     </td><td>0     </td><td>...   </td><td>10    </td><td>29.4  </td><td>17.5  </td><td> 0.045</td><td>253.9 </td><td>222.5 </td><td>0.05  </td><td>2.05  </td><td>69.830</td><td>1     </td></tr>\n",
       "\t<tr><td>2     </td><td>0     </td><td>0     </td><td>1     </td><td>0     </td><td>0     </td><td>0     </td><td>0     </td><td>0     </td><td>0     </td><td>...   </td><td>10    </td><td>29.4  </td><td>17.5  </td><td>-1.036</td><td>226.9 </td><td>200.0 </td><td>0.30  </td><td>2.50  </td><td>59.000</td><td>1     </td></tr>\n",
       "\t<tr><td>3     </td><td>0     </td><td>0     </td><td>3     </td><td>0     </td><td>0     </td><td>0     </td><td>0     </td><td>0     </td><td>0     </td><td>...   </td><td>10    </td><td>29.4  </td><td>17.5  </td><td>-1.336</td><td>237.1 </td><td>194.5 </td><td>0.10  </td><td>3.45  </td><td>59.220</td><td>1     </td></tr>\n",
       "\t<tr><td>4     </td><td>0     </td><td>0     </td><td>0     </td><td>0     </td><td>0     </td><td>0     </td><td>0     </td><td>0     </td><td>0     </td><td>...   </td><td>10    </td><td>29.4  </td><td>17.5  </td><td> 0.616</td><td>248.6 </td><td>221.0 </td><td>0.15  </td><td>1.60  </td><td>67.750</td><td>1     </td></tr>\n",
       "\t<tr><td>5     </td><td>1     </td><td>0     </td><td>0     </td><td>0     </td><td>0     </td><td>0     </td><td>0     </td><td>0     </td><td>0     </td><td>...   </td><td>10    </td><td>29.4  </td><td>17.5  </td><td>-0.684</td><td>251.9 </td><td>202.0 </td><td>0.05  </td><td>2.45  </td><td>57.760</td><td>1     </td></tr>\n",
       "\t<tr><td>6     </td><td>0     </td><td>0     </td><td>0     </td><td>0     </td><td>0     </td><td>1     </td><td>0     </td><td>0     </td><td>0     </td><td>...   </td><td> 8    </td><td>29.6  </td><td>20.8  </td><td> 1.190</td><td>250.1 </td><td>192.5 </td><td>0.10  </td><td>2.50  </td><td>53.075</td><td>2     </td></tr>\n",
       "</tbody>\n",
       "</table>\n"
      ],
      "text/latex": [
       "\\begin{tabular}{r|lllllllllllllllllllllllllllllllllllllllllllllllllllllllllllllllllllllllllllllllllllllllll}\n",
       " Sample & C1 & P1 & P2 & P3 & P4 & P5 & P6 & P7 & P8 & ... & exposure & salinity & temperature & NAP & penetrability & grainsize & humus & chalk & sorting1 & Beach\\\\\n",
       "\\hline\n",
       "\t 1      & 4      & 0      & 0      & 0      & 0      & 0      & 1      & 0      & 0      & ...    & 10     & 29.4   & 17.5   &  0.045 & 253.9  & 222.5  & 0.05   & 2.05   & 69.830 & 1     \\\\\n",
       "\t 2      & 0      & 0      & 1      & 0      & 0      & 0      & 0      & 0      & 0      & ...    & 10     & 29.4   & 17.5   & -1.036 & 226.9  & 200.0  & 0.30   & 2.50   & 59.000 & 1     \\\\\n",
       "\t 3      & 0      & 0      & 3      & 0      & 0      & 0      & 0      & 0      & 0      & ...    & 10     & 29.4   & 17.5   & -1.336 & 237.1  & 194.5  & 0.10   & 3.45   & 59.220 & 1     \\\\\n",
       "\t 4      & 0      & 0      & 0      & 0      & 0      & 0      & 0      & 0      & 0      & ...    & 10     & 29.4   & 17.5   &  0.616 & 248.6  & 221.0  & 0.15   & 1.60   & 67.750 & 1     \\\\\n",
       "\t 5      & 1      & 0      & 0      & 0      & 0      & 0      & 0      & 0      & 0      & ...    & 10     & 29.4   & 17.5   & -0.684 & 251.9  & 202.0  & 0.05   & 2.45   & 57.760 & 1     \\\\\n",
       "\t 6      & 0      & 0      & 0      & 0      & 0      & 1      & 0      & 0      & 0      & ...    &  8     & 29.6   & 20.8   &  1.190 & 250.1  & 192.5  & 0.10   & 2.50   & 53.075 & 2     \\\\\n",
       "\\end{tabular}\n"
      ],
      "text/markdown": [
       "\n",
       "| Sample | C1 | P1 | P2 | P3 | P4 | P5 | P6 | P7 | P8 | ... | exposure | salinity | temperature | NAP | penetrability | grainsize | humus | chalk | sorting1 | Beach |\n",
       "|---|---|---|---|---|---|---|---|---|---|---|---|---|---|---|---|---|---|---|---|---|\n",
       "| 1      | 4      | 0      | 0      | 0      | 0      | 0      | 1      | 0      | 0      | ...    | 10     | 29.4   | 17.5   |  0.045 | 253.9  | 222.5  | 0.05   | 2.05   | 69.830 | 1      |\n",
       "| 2      | 0      | 0      | 1      | 0      | 0      | 0      | 0      | 0      | 0      | ...    | 10     | 29.4   | 17.5   | -1.036 | 226.9  | 200.0  | 0.30   | 2.50   | 59.000 | 1      |\n",
       "| 3      | 0      | 0      | 3      | 0      | 0      | 0      | 0      | 0      | 0      | ...    | 10     | 29.4   | 17.5   | -1.336 | 237.1  | 194.5  | 0.10   | 3.45   | 59.220 | 1      |\n",
       "| 4      | 0      | 0      | 0      | 0      | 0      | 0      | 0      | 0      | 0      | ...    | 10     | 29.4   | 17.5   |  0.616 | 248.6  | 221.0  | 0.15   | 1.60   | 67.750 | 1      |\n",
       "| 5      | 1      | 0      | 0      | 0      | 0      | 0      | 0      | 0      | 0      | ...    | 10     | 29.4   | 17.5   | -0.684 | 251.9  | 202.0  | 0.05   | 2.45   | 57.760 | 1      |\n",
       "| 6      | 0      | 0      | 0      | 0      | 0      | 1      | 0      | 0      | 0      | ...    |  8     | 29.6   | 20.8   |  1.190 | 250.1  | 192.5  | 0.10   | 2.50   | 53.075 | 2      |\n",
       "\n"
      ],
      "text/plain": [
       "  Sample C1 P1 P2 P3 P4 P5 P6 P7 P8 ... exposure salinity temperature NAP   \n",
       "1 1      4  0  0  0  0  0  1  0  0  ... 10       29.4     17.5         0.045\n",
       "2 2      0  0  1  0  0  0  0  0  0  ... 10       29.4     17.5        -1.036\n",
       "3 3      0  0  3  0  0  0  0  0  0  ... 10       29.4     17.5        -1.336\n",
       "4 4      0  0  0  0  0  0  0  0  0  ... 10       29.4     17.5         0.616\n",
       "5 5      1  0  0  0  0  0  0  0  0  ... 10       29.4     17.5        -0.684\n",
       "6 6      0  0  0  0  0  1  0  0  0  ...  8       29.6     20.8         1.190\n",
       "  penetrability grainsize humus chalk sorting1 Beach\n",
       "1 253.9         222.5     0.05  2.05  69.830   1    \n",
       "2 226.9         200.0     0.30  2.50  59.000   1    \n",
       "3 237.1         194.5     0.10  3.45  59.220   1    \n",
       "4 248.6         221.0     0.15  1.60  67.750   1    \n",
       "5 251.9         202.0     0.05  2.45  57.760   1    \n",
       "6 250.1         192.5     0.10  2.50  53.075   2    "
      ]
     },
     "metadata": {},
     "output_type": "display_data"
    }
   ],
   "source": [
    "survey_data = read.csv(\"RIKZ.csv\")\n",
    "head(survey_data)"
   ]
  },
  {
   "cell_type": "code",
   "execution_count": 3,
   "id": "24ce8466",
   "metadata": {
    "scrolled": true
   },
   "outputs": [
    {
     "name": "stderr",
     "output_type": "stream",
     "text": [
      "Parsed with column specification:\n",
      "cols(\n",
      "  .default = col_double()\n",
      ")\n",
      "See spec(...) for full column specifications.\n"
     ]
    }
   ],
   "source": [
    "survey_tbl = read_csv(\"RIKZ.csv\")"
   ]
  },
  {
   "cell_type": "code",
   "execution_count": null,
   "id": "8fd26b49",
   "metadata": {},
   "outputs": [],
   "source": [
    "## how do I do the column specs? "
   ]
  },
  {
   "cell_type": "markdown",
   "id": "ccf0323c",
   "metadata": {},
   "source": [
    "## Question 2"
   ]
  },
  {
   "cell_type": "code",
   "execution_count": 4,
   "id": "1b9638e3",
   "metadata": {},
   "outputs": [
    {
     "data": {
      "text/html": [
       "<table>\n",
       "<thead><tr><th scope=col>Sample</th><th scope=col>C1</th><th scope=col>P1</th><th scope=col>P2</th><th scope=col>P3</th><th scope=col>P4</th><th scope=col>P5</th><th scope=col>P6</th><th scope=col>P7</th><th scope=col>P8</th><th scope=col>...</th><th scope=col>exposure</th><th scope=col>salinity</th><th scope=col>temperature</th><th scope=col>NAP</th><th scope=col>penetrability</th><th scope=col>grainsize</th><th scope=col>humus</th><th scope=col>chalk</th><th scope=col>sorting1</th><th scope=col>Beach</th></tr></thead>\n",
       "<tbody>\n",
       "\t<tr><td>1     </td><td>4     </td><td>0     </td><td>0     </td><td>0     </td><td>0     </td><td>0     </td><td>1     </td><td>0     </td><td>0     </td><td>...   </td><td>10    </td><td>29.4  </td><td>17.5  </td><td> 0.045</td><td>253.9 </td><td>222.5 </td><td>0.05  </td><td>2.05  </td><td>69.830</td><td>1     </td></tr>\n",
       "\t<tr><td>2     </td><td>0     </td><td>0     </td><td>1     </td><td>0     </td><td>0     </td><td>0     </td><td>0     </td><td>0     </td><td>0     </td><td>...   </td><td>10    </td><td>29.4  </td><td>17.5  </td><td>-1.036</td><td>226.9 </td><td>200.0 </td><td>0.30  </td><td>2.50  </td><td>59.000</td><td>1     </td></tr>\n",
       "\t<tr><td>3     </td><td>0     </td><td>0     </td><td>3     </td><td>0     </td><td>0     </td><td>0     </td><td>0     </td><td>0     </td><td>0     </td><td>...   </td><td>10    </td><td>29.4  </td><td>17.5  </td><td>-1.336</td><td>237.1 </td><td>194.5 </td><td>0.10  </td><td>3.45  </td><td>59.220</td><td>1     </td></tr>\n",
       "\t<tr><td>4     </td><td>0     </td><td>0     </td><td>0     </td><td>0     </td><td>0     </td><td>0     </td><td>0     </td><td>0     </td><td>0     </td><td>...   </td><td>10    </td><td>29.4  </td><td>17.5  </td><td> 0.616</td><td>248.6 </td><td>221.0 </td><td>0.15  </td><td>1.60  </td><td>67.750</td><td>1     </td></tr>\n",
       "\t<tr><td>5     </td><td>1     </td><td>0     </td><td>0     </td><td>0     </td><td>0     </td><td>0     </td><td>0     </td><td>0     </td><td>0     </td><td>...   </td><td>10    </td><td>29.4  </td><td>17.5  </td><td>-0.684</td><td>251.9 </td><td>202.0 </td><td>0.05  </td><td>2.45  </td><td>57.760</td><td>1     </td></tr>\n",
       "\t<tr><td>6     </td><td>0     </td><td>0     </td><td>0     </td><td>0     </td><td>0     </td><td>1     </td><td>0     </td><td>0     </td><td>0     </td><td>...   </td><td> 8    </td><td>29.6  </td><td>20.8  </td><td> 1.190</td><td>250.1 </td><td>192.5 </td><td>0.10  </td><td>2.50  </td><td>53.075</td><td>2     </td></tr>\n",
       "</tbody>\n",
       "</table>\n"
      ],
      "text/latex": [
       "\\begin{tabular}{r|lllllllllllllllllllllllllllllllllllllllllllllllllllllllllllllllllllllllllllllllllllllllll}\n",
       " Sample & C1 & P1 & P2 & P3 & P4 & P5 & P6 & P7 & P8 & ... & exposure & salinity & temperature & NAP & penetrability & grainsize & humus & chalk & sorting1 & Beach\\\\\n",
       "\\hline\n",
       "\t 1      & 4      & 0      & 0      & 0      & 0      & 0      & 1      & 0      & 0      & ...    & 10     & 29.4   & 17.5   &  0.045 & 253.9  & 222.5  & 0.05   & 2.05   & 69.830 & 1     \\\\\n",
       "\t 2      & 0      & 0      & 1      & 0      & 0      & 0      & 0      & 0      & 0      & ...    & 10     & 29.4   & 17.5   & -1.036 & 226.9  & 200.0  & 0.30   & 2.50   & 59.000 & 1     \\\\\n",
       "\t 3      & 0      & 0      & 3      & 0      & 0      & 0      & 0      & 0      & 0      & ...    & 10     & 29.4   & 17.5   & -1.336 & 237.1  & 194.5  & 0.10   & 3.45   & 59.220 & 1     \\\\\n",
       "\t 4      & 0      & 0      & 0      & 0      & 0      & 0      & 0      & 0      & 0      & ...    & 10     & 29.4   & 17.5   &  0.616 & 248.6  & 221.0  & 0.15   & 1.60   & 67.750 & 1     \\\\\n",
       "\t 5      & 1      & 0      & 0      & 0      & 0      & 0      & 0      & 0      & 0      & ...    & 10     & 29.4   & 17.5   & -0.684 & 251.9  & 202.0  & 0.05   & 2.45   & 57.760 & 1     \\\\\n",
       "\t 6      & 0      & 0      & 0      & 0      & 0      & 1      & 0      & 0      & 0      & ...    &  8     & 29.6   & 20.8   &  1.190 & 250.1  & 192.5  & 0.10   & 2.50   & 53.075 & 2     \\\\\n",
       "\\end{tabular}\n"
      ],
      "text/markdown": [
       "\n",
       "| Sample | C1 | P1 | P2 | P3 | P4 | P5 | P6 | P7 | P8 | ... | exposure | salinity | temperature | NAP | penetrability | grainsize | humus | chalk | sorting1 | Beach |\n",
       "|---|---|---|---|---|---|---|---|---|---|---|---|---|---|---|---|---|---|---|---|---|\n",
       "| 1      | 4      | 0      | 0      | 0      | 0      | 0      | 1      | 0      | 0      | ...    | 10     | 29.4   | 17.5   |  0.045 | 253.9  | 222.5  | 0.05   | 2.05   | 69.830 | 1      |\n",
       "| 2      | 0      | 0      | 1      | 0      | 0      | 0      | 0      | 0      | 0      | ...    | 10     | 29.4   | 17.5   | -1.036 | 226.9  | 200.0  | 0.30   | 2.50   | 59.000 | 1      |\n",
       "| 3      | 0      | 0      | 3      | 0      | 0      | 0      | 0      | 0      | 0      | ...    | 10     | 29.4   | 17.5   | -1.336 | 237.1  | 194.5  | 0.10   | 3.45   | 59.220 | 1      |\n",
       "| 4      | 0      | 0      | 0      | 0      | 0      | 0      | 0      | 0      | 0      | ...    | 10     | 29.4   | 17.5   |  0.616 | 248.6  | 221.0  | 0.15   | 1.60   | 67.750 | 1      |\n",
       "| 5      | 1      | 0      | 0      | 0      | 0      | 0      | 0      | 0      | 0      | ...    | 10     | 29.4   | 17.5   | -0.684 | 251.9  | 202.0  | 0.05   | 2.45   | 57.760 | 1      |\n",
       "| 6      | 0      | 0      | 0      | 0      | 0      | 1      | 0      | 0      | 0      | ...    |  8     | 29.6   | 20.8   |  1.190 | 250.1  | 192.5  | 0.10   | 2.50   | 53.075 | 2      |\n",
       "\n"
      ],
      "text/plain": [
       "  Sample C1 P1 P2 P3 P4 P5 P6 P7 P8 ... exposure salinity temperature NAP   \n",
       "1 1      4  0  0  0  0  0  1  0  0  ... 10       29.4     17.5         0.045\n",
       "2 2      0  0  1  0  0  0  0  0  0  ... 10       29.4     17.5        -1.036\n",
       "3 3      0  0  3  0  0  0  0  0  0  ... 10       29.4     17.5        -1.336\n",
       "4 4      0  0  0  0  0  0  0  0  0  ... 10       29.4     17.5         0.616\n",
       "5 5      1  0  0  0  0  0  0  0  0  ... 10       29.4     17.5        -0.684\n",
       "6 6      0  0  0  0  0  1  0  0  0  ...  8       29.6     20.8         1.190\n",
       "  penetrability grainsize humus chalk sorting1 Beach\n",
       "1 253.9         222.5     0.05  2.05  69.830   1    \n",
       "2 226.9         200.0     0.30  2.50  59.000   1    \n",
       "3 237.1         194.5     0.10  3.45  59.220   1    \n",
       "4 248.6         221.0     0.15  1.60  67.750   1    \n",
       "5 251.9         202.0     0.05  2.45  57.760   1    \n",
       "6 250.1         192.5     0.10  2.50  53.075   2    "
      ]
     },
     "metadata": {},
     "output_type": "display_data"
    }
   ],
   "source": [
    "head(survey_tbl)"
   ]
  },
  {
   "cell_type": "markdown",
   "id": "f1514600",
   "metadata": {},
   "source": [
    "## Question 3"
   ]
  },
  {
   "cell_type": "code",
   "execution_count": 5,
   "id": "162f6605",
   "metadata": {},
   "outputs": [
    {
     "data": {
      "text/html": [
       "<table>\n",
       "<thead><tr><th scope=col>C1</th><th scope=col>P1</th><th scope=col>P2</th><th scope=col>P3</th><th scope=col>P4</th><th scope=col>P5</th><th scope=col>P6</th><th scope=col>P7</th><th scope=col>P8</th><th scope=col>P9</th><th scope=col>...</th><th scope=col>M12</th><th scope=col>M14</th><th scope=col>M15</th><th scope=col>M16</th><th scope=col>M17</th><th scope=col>I1</th><th scope=col>I2</th><th scope=col>I3</th><th scope=col>I4</th><th scope=col>I5</th></tr></thead>\n",
       "<tbody>\n",
       "\t<tr><td>TRUE </td><td>FALSE</td><td>FALSE</td><td>FALSE</td><td>FALSE</td><td>FALSE</td><td>TRUE </td><td>FALSE</td><td>FALSE</td><td>FALSE</td><td>...  </td><td>FALSE</td><td>FALSE</td><td>FALSE</td><td>FALSE</td><td>FALSE</td><td>FALSE</td><td>FALSE</td><td>TRUE </td><td>FALSE</td><td>FALSE</td></tr>\n",
       "</tbody>\n",
       "</table>\n"
      ],
      "text/latex": [
       "\\begin{tabular}{r|lllllllllllllllllllllllllllllllllllllllllllllllllllllllllllllllllllllllllll}\n",
       " C1 & P1 & P2 & P3 & P4 & P5 & P6 & P7 & P8 & P9 & ... & M12 & M14 & M15 & M16 & M17 & I1 & I2 & I3 & I4 & I5\\\\\n",
       "\\hline\n",
       "\t TRUE  & FALSE & FALSE & FALSE & FALSE & FALSE & TRUE  & FALSE & FALSE & FALSE & ...   & FALSE & FALSE & FALSE & FALSE & FALSE & FALSE & FALSE & TRUE  & FALSE & FALSE\\\\\n",
       "\\end{tabular}\n"
      ],
      "text/markdown": [
       "\n",
       "| C1 | P1 | P2 | P3 | P4 | P5 | P6 | P7 | P8 | P9 | ... | M12 | M14 | M15 | M16 | M17 | I1 | I2 | I3 | I4 | I5 |\n",
       "|---|---|---|---|---|---|---|---|---|---|---|---|---|---|---|---|---|---|---|---|---|\n",
       "| TRUE  | FALSE | FALSE | FALSE | FALSE | FALSE | TRUE  | FALSE | FALSE | FALSE | ...   | FALSE | FALSE | FALSE | FALSE | FALSE | FALSE | FALSE | TRUE  | FALSE | FALSE |\n",
       "\n"
      ],
      "text/plain": [
       "  C1   P1    P2    P3    P4    P5    P6   P7    P8    P9    ... M12   M14  \n",
       "1 TRUE FALSE FALSE FALSE FALSE FALSE TRUE FALSE FALSE FALSE ... FALSE FALSE\n",
       "  M15   M16   M17   I1    I2    I3   I4    I5   \n",
       "1 FALSE FALSE FALSE FALSE FALSE TRUE FALSE FALSE"
      ]
     },
     "metadata": {},
     "output_type": "display_data"
    }
   ],
   "source": [
    "survey_data[1,2:76]>0"
   ]
  },
  {
   "cell_type": "code",
   "execution_count": 6,
   "id": "3733837c",
   "metadata": {},
   "outputs": [
    {
     "data": {
      "text/html": [
       "11"
      ],
      "text/latex": [
       "11"
      ],
      "text/markdown": [
       "11"
      ],
      "text/plain": [
       "[1] 11"
      ]
     },
     "metadata": {},
     "output_type": "display_data"
    }
   ],
   "source": [
    "sum(survey_data[1,2:76]>0)"
   ]
  },
  {
   "cell_type": "code",
   "execution_count": 7,
   "id": "677a5f18",
   "metadata": {},
   "outputs": [
    {
     "data": {
      "text/html": [
       "<dl class=dl-horizontal>\n",
       "\t<dt>1</dt>\n",
       "\t\t<dd>11</dd>\n",
       "\t<dt>2</dt>\n",
       "\t\t<dd>10</dd>\n",
       "\t<dt>3</dt>\n",
       "\t\t<dd>13</dd>\n",
       "\t<dt>4</dt>\n",
       "\t\t<dd>11</dd>\n",
       "\t<dt>5</dt>\n",
       "\t\t<dd>10</dd>\n",
       "\t<dt>6</dt>\n",
       "\t\t<dd>8</dd>\n",
       "\t<dt>7</dt>\n",
       "\t\t<dd>9</dd>\n",
       "\t<dt>8</dt>\n",
       "\t\t<dd>8</dd>\n",
       "\t<dt>9</dt>\n",
       "\t\t<dd>19</dd>\n",
       "\t<dt>10</dt>\n",
       "\t\t<dd>17</dd>\n",
       "\t<dt>11</dt>\n",
       "\t\t<dd>6</dd>\n",
       "\t<dt>12</dt>\n",
       "\t\t<dd>1</dd>\n",
       "\t<dt>13</dt>\n",
       "\t\t<dd>4</dd>\n",
       "\t<dt>14</dt>\n",
       "\t\t<dd>3</dd>\n",
       "\t<dt>15</dt>\n",
       "\t\t<dd>3</dd>\n",
       "\t<dt>16</dt>\n",
       "\t\t<dd>1</dd>\n",
       "\t<dt>17</dt>\n",
       "\t\t<dd>3</dd>\n",
       "\t<dt>18</dt>\n",
       "\t\t<dd>3</dd>\n",
       "\t<dt>19</dt>\n",
       "\t\t<dd>1</dd>\n",
       "\t<dt>20</dt>\n",
       "\t\t<dd>4</dd>\n",
       "\t<dt>21</dt>\n",
       "\t\t<dd>3</dd>\n",
       "\t<dt>22</dt>\n",
       "\t\t<dd>22</dd>\n",
       "\t<dt>23</dt>\n",
       "\t\t<dd>6</dd>\n",
       "\t<dt>24</dt>\n",
       "\t\t<dd>0</dd>\n",
       "\t<dt>25</dt>\n",
       "\t\t<dd>6</dd>\n",
       "\t<dt>26</dt>\n",
       "\t\t<dd>5</dd>\n",
       "\t<dt>27</dt>\n",
       "\t\t<dd>4</dd>\n",
       "\t<dt>28</dt>\n",
       "\t\t<dd>1</dd>\n",
       "\t<dt>29</dt>\n",
       "\t\t<dd>6</dd>\n",
       "\t<dt>30</dt>\n",
       "\t\t<dd>4</dd>\n",
       "\t<dt>31</dt>\n",
       "\t\t<dd>2</dd>\n",
       "\t<dt>32</dt>\n",
       "\t\t<dd>1</dd>\n",
       "\t<dt>33</dt>\n",
       "\t\t<dd>1</dd>\n",
       "\t<dt>34</dt>\n",
       "\t\t<dd>3</dd>\n",
       "\t<dt>35</dt>\n",
       "\t\t<dd>4</dd>\n",
       "\t<dt>36</dt>\n",
       "\t\t<dd>3</dd>\n",
       "\t<dt>37</dt>\n",
       "\t\t<dd>5</dd>\n",
       "\t<dt>38</dt>\n",
       "\t\t<dd>7</dd>\n",
       "\t<dt>39</dt>\n",
       "\t\t<dd>5</dd>\n",
       "\t<dt>40</dt>\n",
       "\t\t<dd>0</dd>\n",
       "\t<dt>41</dt>\n",
       "\t\t<dd>7</dd>\n",
       "\t<dt>42</dt>\n",
       "\t\t<dd>11</dd>\n",
       "\t<dt>43</dt>\n",
       "\t\t<dd>3</dd>\n",
       "\t<dt>44</dt>\n",
       "\t\t<dd>0</dd>\n",
       "\t<dt>45</dt>\n",
       "\t\t<dd>2</dd>\n",
       "</dl>\n"
      ],
      "text/latex": [
       "\\begin{description*}\n",
       "\\item[1] 11\n",
       "\\item[2] 10\n",
       "\\item[3] 13\n",
       "\\item[4] 11\n",
       "\\item[5] 10\n",
       "\\item[6] 8\n",
       "\\item[7] 9\n",
       "\\item[8] 8\n",
       "\\item[9] 19\n",
       "\\item[10] 17\n",
       "\\item[11] 6\n",
       "\\item[12] 1\n",
       "\\item[13] 4\n",
       "\\item[14] 3\n",
       "\\item[15] 3\n",
       "\\item[16] 1\n",
       "\\item[17] 3\n",
       "\\item[18] 3\n",
       "\\item[19] 1\n",
       "\\item[20] 4\n",
       "\\item[21] 3\n",
       "\\item[22] 22\n",
       "\\item[23] 6\n",
       "\\item[24] 0\n",
       "\\item[25] 6\n",
       "\\item[26] 5\n",
       "\\item[27] 4\n",
       "\\item[28] 1\n",
       "\\item[29] 6\n",
       "\\item[30] 4\n",
       "\\item[31] 2\n",
       "\\item[32] 1\n",
       "\\item[33] 1\n",
       "\\item[34] 3\n",
       "\\item[35] 4\n",
       "\\item[36] 3\n",
       "\\item[37] 5\n",
       "\\item[38] 7\n",
       "\\item[39] 5\n",
       "\\item[40] 0\n",
       "\\item[41] 7\n",
       "\\item[42] 11\n",
       "\\item[43] 3\n",
       "\\item[44] 0\n",
       "\\item[45] 2\n",
       "\\end{description*}\n"
      ],
      "text/markdown": [
       "1\n",
       ":   112\n",
       ":   103\n",
       ":   134\n",
       ":   115\n",
       ":   106\n",
       ":   87\n",
       ":   98\n",
       ":   89\n",
       ":   1910\n",
       ":   1711\n",
       ":   612\n",
       ":   113\n",
       ":   414\n",
       ":   315\n",
       ":   316\n",
       ":   117\n",
       ":   318\n",
       ":   319\n",
       ":   120\n",
       ":   421\n",
       ":   322\n",
       ":   2223\n",
       ":   624\n",
       ":   025\n",
       ":   626\n",
       ":   527\n",
       ":   428\n",
       ":   129\n",
       ":   630\n",
       ":   431\n",
       ":   232\n",
       ":   133\n",
       ":   134\n",
       ":   335\n",
       ":   436\n",
       ":   337\n",
       ":   538\n",
       ":   739\n",
       ":   540\n",
       ":   041\n",
       ":   742\n",
       ":   1143\n",
       ":   344\n",
       ":   045\n",
       ":   2\n",
       "\n"
      ],
      "text/plain": [
       " 1  2  3  4  5  6  7  8  9 10 11 12 13 14 15 16 17 18 19 20 21 22 23 24 25 26 \n",
       "11 10 13 11 10  8  9  8 19 17  6  1  4  3  3  1  3  3  1  4  3 22  6  0  6  5 \n",
       "27 28 29 30 31 32 33 34 35 36 37 38 39 40 41 42 43 44 45 \n",
       " 4  1  6  4  2  1  1  3  4  3  5  7  5  0  7 11  3  0  2 "
      ]
     },
     "metadata": {},
     "output_type": "display_data"
    }
   ],
   "source": [
    "(survey_data[1:45,2:76]>0) %>% apply( 1, sum)"
   ]
  },
  {
   "cell_type": "code",
   "execution_count": 8,
   "id": "ac310c61",
   "metadata": {
    "scrolled": true
   },
   "outputs": [
    {
     "data": {
      "text/html": [
       "<table>\n",
       "<thead><tr><th scope=col>Sample</th><th scope=col>C1</th><th scope=col>P1</th><th scope=col>P2</th><th scope=col>P3</th><th scope=col>P4</th><th scope=col>P5</th><th scope=col>P6</th><th scope=col>P7</th><th scope=col>P8</th><th scope=col>...</th><th scope=col>salinity</th><th scope=col>temperature</th><th scope=col>NAP</th><th scope=col>penetrability</th><th scope=col>grainsize</th><th scope=col>humus</th><th scope=col>chalk</th><th scope=col>sorting1</th><th scope=col>Beach</th><th scope=col>richness</th></tr></thead>\n",
       "<tbody>\n",
       "\t<tr><td> 1      </td><td>4       </td><td>0       </td><td>0       </td><td> 0      </td><td> 0      </td><td>0       </td><td>1       </td><td> 0      </td><td>0       </td><td>...     </td><td>29.4    </td><td>17.500  </td><td> 0.045  </td><td>253.9   </td><td>222.5   </td><td>0.0500  </td><td> 2.05   </td><td> 69.8300</td><td>1       </td><td>11      </td></tr>\n",
       "\t<tr><td> 2      </td><td>0       </td><td>0       </td><td>1       </td><td> 0      </td><td> 0      </td><td>0       </td><td>0       </td><td> 0      </td><td>0       </td><td>...     </td><td>29.4    </td><td>17.500  </td><td>-1.036  </td><td>226.9   </td><td>200.0   </td><td>0.3000  </td><td> 2.50   </td><td> 59.0000</td><td>1       </td><td>10      </td></tr>\n",
       "\t<tr><td> 3      </td><td>0       </td><td>0       </td><td>3       </td><td> 0      </td><td> 0      </td><td>0       </td><td>0       </td><td> 0      </td><td>0       </td><td>...     </td><td>29.4    </td><td>17.500  </td><td>-1.336  </td><td>237.1   </td><td>194.5   </td><td>0.1000  </td><td> 3.45   </td><td> 59.2200</td><td>1       </td><td>13      </td></tr>\n",
       "\t<tr><td> 4      </td><td>0       </td><td>0       </td><td>0       </td><td> 0      </td><td> 0      </td><td>0       </td><td>0       </td><td> 0      </td><td>0       </td><td>...     </td><td>29.4    </td><td>17.500  </td><td> 0.616  </td><td>248.6   </td><td>221.0   </td><td>0.1500  </td><td> 1.60   </td><td> 67.7500</td><td>1       </td><td>11      </td></tr>\n",
       "\t<tr><td> 5      </td><td>1       </td><td>0       </td><td>0       </td><td> 0      </td><td> 0      </td><td>0       </td><td>0       </td><td> 0      </td><td>0       </td><td>...     </td><td>29.4    </td><td>17.500  </td><td>-0.684  </td><td>251.9   </td><td>202.0   </td><td>0.0500  </td><td> 2.45   </td><td> 57.7600</td><td>1       </td><td>10      </td></tr>\n",
       "\t<tr><td> 6      </td><td>0       </td><td>0       </td><td>0       </td><td> 0      </td><td> 0      </td><td>1       </td><td>0       </td><td> 0      </td><td>0       </td><td>...     </td><td>29.6    </td><td>20.800  </td><td> 1.190  </td><td>250.1   </td><td>192.5   </td><td>0.1000  </td><td> 2.50   </td><td> 53.0750</td><td>2       </td><td> 8      </td></tr>\n",
       "\t<tr><td> 7      </td><td>0       </td><td>0       </td><td>0       </td><td> 1      </td><td> 1      </td><td>0       </td><td>0       </td><td> 0      </td><td>0       </td><td>...     </td><td>29.6    </td><td>20.800  </td><td> 0.820  </td><td>257.1   </td><td>205.5   </td><td>0.1000  </td><td> 1.85   </td><td> 54.4100</td><td>2       </td><td> 9      </td></tr>\n",
       "\t<tr><td> 8      </td><td>0       </td><td>0       </td><td>0       </td><td> 0      </td><td> 0      </td><td>0       </td><td>0       </td><td> 0      </td><td>0       </td><td>...     </td><td>29.6    </td><td>20.800  </td><td> 0.635  </td><td>247.9   </td><td>211.5   </td><td>0.1000  </td><td> 1.70   </td><td> 60.4050</td><td>2       </td><td> 8      </td></tr>\n",
       "\t<tr><td> 9      </td><td>0       </td><td>0       </td><td>0       </td><td>21      </td><td>11      </td><td>3       </td><td>0       </td><td>34      </td><td>0       </td><td>...     </td><td>29.6    </td><td>20.800  </td><td> 0.061  </td><td>248.9   </td><td>205.5   </td><td>0.1500  </td><td> 2.30   </td><td> 58.8100</td><td>2       </td><td>19      </td></tr>\n",
       "\t<tr><td>10      </td><td>0       </td><td>2       </td><td>0       </td><td> 2      </td><td> 0      </td><td>0       </td><td>0       </td><td> 7      </td><td>0       </td><td>...     </td><td>29.6    </td><td>20.800  </td><td>-1.334  </td><td>257.9   </td><td>197.0   </td><td>0.0000  </td><td> 2.60   </td><td> 59.5750</td><td>2       </td><td>17      </td></tr>\n",
       "\t<tr><td>11      </td><td>0       </td><td>0       </td><td>0       </td><td> 0      </td><td> 0      </td><td>0       </td><td>0       </td><td> 0      </td><td>0       </td><td>...     </td><td>27.9    </td><td>15.800  </td><td>-0.976  </td><td>268.4   </td><td>330.5   </td><td>0.0500  </td><td> 3.40   </td><td>101.3300</td><td>3       </td><td> 6      </td></tr>\n",
       "\t<tr><td>12      </td><td>0       </td><td>0       </td><td>0       </td><td> 0      </td><td> 0      </td><td>0       </td><td>0       </td><td> 0      </td><td>0       </td><td>...     </td><td>27.9    </td><td>15.800  </td><td> 1.494  </td><td>274.4   </td><td>272.5   </td><td>0.0000  </td><td> 2.55   </td><td> 66.1700</td><td>3       </td><td> 1      </td></tr>\n",
       "\t<tr><td>13      </td><td>0       </td><td>0       </td><td>0       </td><td> 0      </td><td> 0      </td><td>0       </td><td>0       </td><td> 0      </td><td>0       </td><td>...     </td><td>27.9    </td><td>15.800  </td><td>-0.201  </td><td>272.9   </td><td>296.5   </td><td>0.1000  </td><td> 2.20   </td><td> 83.8400</td><td>3       </td><td> 4      </td></tr>\n",
       "\t<tr><td>14      </td><td>0       </td><td>0       </td><td>0       </td><td> 0      </td><td> 0      </td><td>0       </td><td>0       </td><td> 0      </td><td>0       </td><td>...     </td><td>27.9    </td><td>15.800  </td><td>-0.482  </td><td>261.4   </td><td>304.0   </td><td>0.0500  </td><td> 1.95   </td><td> 78.0750</td><td>3       </td><td> 3      </td></tr>\n",
       "\t<tr><td>15      </td><td>0       </td><td>0       </td><td>0       </td><td> 0      </td><td> 0      </td><td>0       </td><td>0       </td><td> 0      </td><td>0       </td><td>...     </td><td>27.9    </td><td>15.800  </td><td> 0.167  </td><td>258.1   </td><td>323.5   </td><td>0.1000  </td><td> 1.90   </td><td>105.9550</td><td>3       </td><td> 3      </td></tr>\n",
       "\t<tr><td>16      </td><td>0       </td><td>0       </td><td>0       </td><td> 0      </td><td> 0      </td><td>0       </td><td>0       </td><td> 0      </td><td>0       </td><td>...     </td><td>28.1    </td><td>18.775  </td><td> 1.768  </td><td>258.4   </td><td>293.5   </td><td>0.0500  </td><td> 7.10   </td><td> 87.6850</td><td>4       </td><td> 1      </td></tr>\n",
       "\t<tr><td>17      </td><td>0       </td><td>0       </td><td>0       </td><td> 0      </td><td> 0      </td><td>0       </td><td>0       </td><td> 0      </td><td>0       </td><td>...     </td><td>28.1    </td><td>18.775  </td><td>-0.030  </td><td>253.4   </td><td>361.0   </td><td>0.0000  </td><td>45.75   </td><td>248.6000</td><td>4       </td><td> 3      </td></tr>\n",
       "\t<tr><td>18      </td><td>0       </td><td>0       </td><td>0       </td><td> 0      </td><td> 0      </td><td>0       </td><td>0       </td><td> 1      </td><td>0       </td><td>...     </td><td>28.1    </td><td>18.775  </td><td> 0.460  </td><td>268.6   </td><td>330.5   </td><td>0.0500  </td><td>38.95   </td><td>153.6250</td><td>4       </td><td> 3      </td></tr>\n",
       "\t<tr><td>19      </td><td>0       </td><td>0       </td><td>0       </td><td> 0      </td><td> 0      </td><td>0       </td><td>0       </td><td> 0      </td><td>0       </td><td>...     </td><td>28.1    </td><td>18.775  </td><td> 1.367  </td><td>270.3   </td><td>289.5   </td><td>0.0000  </td><td> 4.15   </td><td> 76.4150</td><td>4       </td><td> 1      </td></tr>\n",
       "\t<tr><td>20      </td><td>0       </td><td>0       </td><td>0       </td><td> 0      </td><td> 0      </td><td>0       </td><td>0       </td><td> 0      </td><td>0       </td><td>...     </td><td>28.1    </td><td>18.775  </td><td>-0.811  </td><td>260.3   </td><td>297.0   </td><td>0.0000  </td><td>28.85   </td><td> 96.9650</td><td>4       </td><td> 4      </td></tr>\n",
       "\t<tr><td>21      </td><td>0       </td><td>0       </td><td>0       </td><td> 0      </td><td> 0      </td><td>0       </td><td>0       </td><td> 0      </td><td>0       </td><td>...     </td><td>29.9    </td><td>19.800  </td><td> 1.117  </td><td>252.1   </td><td>251.5   </td><td>0.0000  </td><td> 0.85   </td><td> 80.0300</td><td>5       </td><td> 3      </td></tr>\n",
       "\t<tr><td>22      </td><td>0       </td><td>1       </td><td>0       </td><td> 8      </td><td> 0      </td><td>1       </td><td>0       </td><td> 0      </td><td>1       </td><td>...     </td><td>29.9    </td><td>19.800  </td><td>-0.503  </td><td>256.1   </td><td>265.0   </td><td>0.0000  </td><td> 1.60   </td><td> 89.0350</td><td>5       </td><td>22      </td></tr>\n",
       "\t<tr><td>23      </td><td>0       </td><td>0       </td><td>0       </td><td> 0      </td><td> 0      </td><td>0       </td><td>0       </td><td> 0      </td><td>0       </td><td>...     </td><td>29.9    </td><td>19.800  </td><td> 0.729  </td><td>244.1   </td><td>275.5   </td><td>0.1000  </td><td> 2.15   </td><td>106.7200</td><td>5       </td><td> 6      </td></tr>\n",
       "\t<tr><td>24      </td><td>0       </td><td>0       </td><td>0       </td><td> 0      </td><td> 0      </td><td>0       </td><td>0       </td><td> 0      </td><td>0       </td><td>...     </td><td>29.9    </td><td>19.800  </td><td> 1.627  </td><td>239.1   </td><td>256.5   </td><td>0.0000  </td><td> 0.95   </td><td> 85.5500</td><td>5       </td><td> 0      </td></tr>\n",
       "\t<tr><td>25      </td><td>0       </td><td>0       </td><td>0       </td><td> 1      </td><td> 0      </td><td>0       </td><td>0       </td><td> 0      </td><td>0       </td><td>...     </td><td>29.9    </td><td>19.800  </td><td> 0.054  </td><td>231.1   </td><td>254.5   </td><td>0.1000  </td><td> 2.10   </td><td> 86.1700</td><td>5       </td><td> 6      </td></tr>\n",
       "\t<tr><td>26      </td><td>0       </td><td>0       </td><td>0       </td><td> 0      </td><td> 0      </td><td>0       </td><td>0       </td><td> 0      </td><td>0       </td><td>...     </td><td>27.1    </td><td>17.400  </td><td>-0.578  </td><td>221.8   </td><td>351.0   </td><td>0.0000  </td><td>17.65   </td><td>150.0800</td><td>6       </td><td> 5      </td></tr>\n",
       "\t<tr><td>27      </td><td>0       </td><td>0       </td><td>0       </td><td> 0      </td><td> 0      </td><td>0       </td><td>0       </td><td> 0      </td><td>0       </td><td>...     </td><td>27.1    </td><td>17.400  </td><td>-0.348  </td><td>206.8   </td><td>405.5   </td><td>0.0500  </td><td>13.35   </td><td>148.6800</td><td>6       </td><td> 4      </td></tr>\n",
       "\t<tr><td>28      </td><td>0       </td><td>0       </td><td>0       </td><td> 0      </td><td> 0      </td><td>0       </td><td>0       </td><td> 0      </td><td>0       </td><td>...     </td><td>27.1    </td><td>17.400  </td><td> 2.222  </td><td>189.3   </td><td>347.5   </td><td>0.0000  </td><td> 3.80   </td><td>124.2150</td><td>6       </td><td> 1      </td></tr>\n",
       "\t<tr><td>29      </td><td>0       </td><td>0       </td><td>0       </td><td> 0      </td><td> 0      </td><td>0       </td><td>0       </td><td> 0      </td><td>0       </td><td>...     </td><td>27.1    </td><td>17.400  </td><td>-0.893  </td><td>179.3   </td><td>336.0   </td><td>0.0500  </td><td>15.50   </td><td>151.6650</td><td>6       </td><td> 6      </td></tr>\n",
       "\t<tr><td>30      </td><td>0       </td><td>0       </td><td>0       </td><td> 0      </td><td> 0      </td><td>0       </td><td>0       </td><td> 0      </td><td>0       </td><td>...     </td><td>27.1    </td><td>17.400  </td><td> 0.766  </td><td>172.3   </td><td>354.5   </td><td>0.0000  </td><td> 7.35   </td><td>136.9900</td><td>6       </td><td> 4      </td></tr>\n",
       "\t<tr><td>31      </td><td>0       </td><td>0       </td><td>0       </td><td> 0      </td><td> 0      </td><td>0       </td><td>0       </td><td> 0      </td><td>0       </td><td>...     </td><td>27.4    </td><td>18.400  </td><td> 0.883  </td><td>165.8   </td><td>266.0   </td><td>0.0500  </td><td>11.35   </td><td>126.6850</td><td>7       </td><td> 2      </td></tr>\n",
       "\t<tr><td>32      </td><td>0       </td><td>0       </td><td>0       </td><td> 0      </td><td> 0      </td><td>0       </td><td>0       </td><td> 0      </td><td>0       </td><td>...     </td><td>27.4    </td><td>18.400  </td><td> 1.786  </td><td>151.8   </td><td>256.5   </td><td>0.0125  </td><td>12.65   </td><td>118.8738</td><td>7       </td><td> 1      </td></tr>\n",
       "\t<tr><td>33      </td><td>0       </td><td>0       </td><td>0       </td><td> 0      </td><td> 0      </td><td>0       </td><td>0       </td><td> 0      </td><td>0       </td><td>...     </td><td>27.4    </td><td>18.400  </td><td> 1.375  </td><td>193.3   </td><td>234.0   </td><td>0.0000  </td><td> 9.15   </td><td> 93.5850</td><td>7       </td><td> 1      </td></tr>\n",
       "\t<tr><td>34      </td><td>0       </td><td>0       </td><td>0       </td><td> 0      </td><td> 0      </td><td>0       </td><td>0       </td><td> 0      </td><td>0       </td><td>...     </td><td>27.4    </td><td>18.400  </td><td>-0.060  </td><td>226.8   </td><td>242.0   </td><td>0.0000  </td><td>16.10   </td><td>114.0200</td><td>7       </td><td> 3      </td></tr>\n",
       "\t<tr><td>35      </td><td>0       </td><td>0       </td><td>0       </td><td> 0      </td><td> 0      </td><td>0       </td><td>0       </td><td> 0      </td><td>0       </td><td>...     </td><td>27.4    </td><td>18.400  </td><td> 0.367  </td><td>262.3   </td><td>284.0   </td><td>0.0000  </td><td>14.00   </td><td>141.2050</td><td>7       </td><td> 4      </td></tr>\n",
       "\t<tr><td>36      </td><td>0       </td><td>0       </td><td>0       </td><td> 0      </td><td> 0      </td><td>0       </td><td>0       </td><td> 0      </td><td>0       </td><td>...     </td><td>26.4    </td><td>20.000  </td><td> 1.671  </td><td>296.3   </td><td>294.5   </td><td>0.0000  </td><td> 4.95   </td><td> 94.3850</td><td>8       </td><td> 3      </td></tr>\n",
       "\t<tr><td>37      </td><td>0       </td><td>0       </td><td>0       </td><td> 0      </td><td> 0      </td><td>0       </td><td>0       </td><td> 0      </td><td>0       </td><td>...     </td><td>26.4    </td><td>20.000  </td><td>-0.375  </td><td>342.3   </td><td>316.5   </td><td>0.1000  </td><td> 7.20   </td><td>115.4450</td><td>8       </td><td> 5      </td></tr>\n",
       "\t<tr><td>38      </td><td>0       </td><td>0       </td><td>0       </td><td> 0      </td><td> 0      </td><td>0       </td><td>0       </td><td> 0      </td><td>0       </td><td>...     </td><td>26.4    </td><td>20.000  </td><td>-1.005  </td><td>382.8   </td><td>355.0   </td><td>0.0000  </td><td>16.70   </td><td>133.0850</td><td>8       </td><td> 7      </td></tr>\n",
       "\t<tr><td>39      </td><td>0       </td><td>0       </td><td>0       </td><td> 0      </td><td> 0      </td><td>0       </td><td>0       </td><td> 0      </td><td>0       </td><td>...     </td><td>26.4    </td><td>20.000  </td><td> 0.170  </td><td>415.8   </td><td>362.0   </td><td>0.0000  </td><td> 6.00   </td><td>113.8150</td><td>8       </td><td> 5      </td></tr>\n",
       "\t<tr><td>40      </td><td>0       </td><td>0       </td><td>0       </td><td> 0      </td><td> 0      </td><td>0       </td><td>0       </td><td> 0      </td><td>0       </td><td>...     </td><td>26.4    </td><td>20.000  </td><td> 2.052  </td><td>449.8   </td><td>311.5   </td><td>0.0000  </td><td> 4.75   </td><td> 93.6600</td><td>8       </td><td> 0      </td></tr>\n",
       "\t<tr><td>41      </td><td>0       </td><td>0       </td><td>2       </td><td> 0      </td><td> 0      </td><td>0       </td><td>0       </td><td> 0      </td><td>0       </td><td>...     </td><td>27.1    </td><td>20.500  </td><td>-0.356  </td><td>489.0   </td><td>244.5   </td><td>0.0500  </td><td> 5.75   </td><td> 89.3900</td><td>9       </td><td> 7      </td></tr>\n",
       "\t<tr><td>42      </td><td>0       </td><td>0       </td><td>0       </td><td> 0      </td><td> 0      </td><td>1       </td><td>0       </td><td> 0      </td><td>0       </td><td>...     </td><td>27.1    </td><td>20.500  </td><td> 0.094  </td><td>531.0   </td><td>247.5   </td><td>0.2000  </td><td> 4.95   </td><td> 76.9050</td><td>9       </td><td>11      </td></tr>\n",
       "\t<tr><td>43      </td><td>0       </td><td>0       </td><td>0       </td><td> 0      </td><td> 0      </td><td>0       </td><td>0       </td><td> 0      </td><td>0       </td><td>...     </td><td>27.1    </td><td>20.500  </td><td>-0.002  </td><td>568.5   </td><td>223.0   </td><td>0.0000  </td><td> 5.40   </td><td> 72.7450</td><td>9       </td><td> 3      </td></tr>\n",
       "\t<tr><td>44      </td><td>0       </td><td>0       </td><td>0       </td><td> 0      </td><td> 0      </td><td>0       </td><td>0       </td><td> 0      </td><td>0       </td><td>...     </td><td>27.1    </td><td>20.500  </td><td> 2.255  </td><td>606.5   </td><td>186.0   </td><td>0.0500  </td><td> 7.10   </td><td> 77.2550</td><td>9       </td><td> 0      </td></tr>\n",
       "\t<tr><td>45      </td><td>0       </td><td>0       </td><td>0       </td><td> 0      </td><td> 0      </td><td>0       </td><td>0       </td><td> 0      </td><td>0       </td><td>...     </td><td>27.1    </td><td>20.500  </td><td> 0.865  </td><td>624.0   </td><td>189.5   </td><td>0.0000  </td><td> 7.10   </td><td> 83.3200</td><td>9       </td><td> 2      </td></tr>\n",
       "</tbody>\n",
       "</table>\n"
      ],
      "text/latex": [
       "\\begin{tabular}{r|llllllllllllllllllllllllllllllllllllllllllllllllllllllllllllllllllllllllllllllllllllllllll}\n",
       " Sample & C1 & P1 & P2 & P3 & P4 & P5 & P6 & P7 & P8 & ... & salinity & temperature & NAP & penetrability & grainsize & humus & chalk & sorting1 & Beach & richness\\\\\n",
       "\\hline\n",
       "\t  1       & 4        & 0        & 0        &  0       &  0       & 0        & 1        &  0       & 0        & ...      & 29.4     & 17.500   &  0.045   & 253.9    & 222.5    & 0.0500   &  2.05    &  69.8300 & 1        & 11      \\\\\n",
       "\t  2       & 0        & 0        & 1        &  0       &  0       & 0        & 0        &  0       & 0        & ...      & 29.4     & 17.500   & -1.036   & 226.9    & 200.0    & 0.3000   &  2.50    &  59.0000 & 1        & 10      \\\\\n",
       "\t  3       & 0        & 0        & 3        &  0       &  0       & 0        & 0        &  0       & 0        & ...      & 29.4     & 17.500   & -1.336   & 237.1    & 194.5    & 0.1000   &  3.45    &  59.2200 & 1        & 13      \\\\\n",
       "\t  4       & 0        & 0        & 0        &  0       &  0       & 0        & 0        &  0       & 0        & ...      & 29.4     & 17.500   &  0.616   & 248.6    & 221.0    & 0.1500   &  1.60    &  67.7500 & 1        & 11      \\\\\n",
       "\t  5       & 1        & 0        & 0        &  0       &  0       & 0        & 0        &  0       & 0        & ...      & 29.4     & 17.500   & -0.684   & 251.9    & 202.0    & 0.0500   &  2.45    &  57.7600 & 1        & 10      \\\\\n",
       "\t  6       & 0        & 0        & 0        &  0       &  0       & 1        & 0        &  0       & 0        & ...      & 29.6     & 20.800   &  1.190   & 250.1    & 192.5    & 0.1000   &  2.50    &  53.0750 & 2        &  8      \\\\\n",
       "\t  7       & 0        & 0        & 0        &  1       &  1       & 0        & 0        &  0       & 0        & ...      & 29.6     & 20.800   &  0.820   & 257.1    & 205.5    & 0.1000   &  1.85    &  54.4100 & 2        &  9      \\\\\n",
       "\t  8       & 0        & 0        & 0        &  0       &  0       & 0        & 0        &  0       & 0        & ...      & 29.6     & 20.800   &  0.635   & 247.9    & 211.5    & 0.1000   &  1.70    &  60.4050 & 2        &  8      \\\\\n",
       "\t  9       & 0        & 0        & 0        & 21       & 11       & 3        & 0        & 34       & 0        & ...      & 29.6     & 20.800   &  0.061   & 248.9    & 205.5    & 0.1500   &  2.30    &  58.8100 & 2        & 19      \\\\\n",
       "\t 10       & 0        & 2        & 0        &  2       &  0       & 0        & 0        &  7       & 0        & ...      & 29.6     & 20.800   & -1.334   & 257.9    & 197.0    & 0.0000   &  2.60    &  59.5750 & 2        & 17      \\\\\n",
       "\t 11       & 0        & 0        & 0        &  0       &  0       & 0        & 0        &  0       & 0        & ...      & 27.9     & 15.800   & -0.976   & 268.4    & 330.5    & 0.0500   &  3.40    & 101.3300 & 3        &  6      \\\\\n",
       "\t 12       & 0        & 0        & 0        &  0       &  0       & 0        & 0        &  0       & 0        & ...      & 27.9     & 15.800   &  1.494   & 274.4    & 272.5    & 0.0000   &  2.55    &  66.1700 & 3        &  1      \\\\\n",
       "\t 13       & 0        & 0        & 0        &  0       &  0       & 0        & 0        &  0       & 0        & ...      & 27.9     & 15.800   & -0.201   & 272.9    & 296.5    & 0.1000   &  2.20    &  83.8400 & 3        &  4      \\\\\n",
       "\t 14       & 0        & 0        & 0        &  0       &  0       & 0        & 0        &  0       & 0        & ...      & 27.9     & 15.800   & -0.482   & 261.4    & 304.0    & 0.0500   &  1.95    &  78.0750 & 3        &  3      \\\\\n",
       "\t 15       & 0        & 0        & 0        &  0       &  0       & 0        & 0        &  0       & 0        & ...      & 27.9     & 15.800   &  0.167   & 258.1    & 323.5    & 0.1000   &  1.90    & 105.9550 & 3        &  3      \\\\\n",
       "\t 16       & 0        & 0        & 0        &  0       &  0       & 0        & 0        &  0       & 0        & ...      & 28.1     & 18.775   &  1.768   & 258.4    & 293.5    & 0.0500   &  7.10    &  87.6850 & 4        &  1      \\\\\n",
       "\t 17       & 0        & 0        & 0        &  0       &  0       & 0        & 0        &  0       & 0        & ...      & 28.1     & 18.775   & -0.030   & 253.4    & 361.0    & 0.0000   & 45.75    & 248.6000 & 4        &  3      \\\\\n",
       "\t 18       & 0        & 0        & 0        &  0       &  0       & 0        & 0        &  1       & 0        & ...      & 28.1     & 18.775   &  0.460   & 268.6    & 330.5    & 0.0500   & 38.95    & 153.6250 & 4        &  3      \\\\\n",
       "\t 19       & 0        & 0        & 0        &  0       &  0       & 0        & 0        &  0       & 0        & ...      & 28.1     & 18.775   &  1.367   & 270.3    & 289.5    & 0.0000   &  4.15    &  76.4150 & 4        &  1      \\\\\n",
       "\t 20       & 0        & 0        & 0        &  0       &  0       & 0        & 0        &  0       & 0        & ...      & 28.1     & 18.775   & -0.811   & 260.3    & 297.0    & 0.0000   & 28.85    &  96.9650 & 4        &  4      \\\\\n",
       "\t 21       & 0        & 0        & 0        &  0       &  0       & 0        & 0        &  0       & 0        & ...      & 29.9     & 19.800   &  1.117   & 252.1    & 251.5    & 0.0000   &  0.85    &  80.0300 & 5        &  3      \\\\\n",
       "\t 22       & 0        & 1        & 0        &  8       &  0       & 1        & 0        &  0       & 1        & ...      & 29.9     & 19.800   & -0.503   & 256.1    & 265.0    & 0.0000   &  1.60    &  89.0350 & 5        & 22      \\\\\n",
       "\t 23       & 0        & 0        & 0        &  0       &  0       & 0        & 0        &  0       & 0        & ...      & 29.9     & 19.800   &  0.729   & 244.1    & 275.5    & 0.1000   &  2.15    & 106.7200 & 5        &  6      \\\\\n",
       "\t 24       & 0        & 0        & 0        &  0       &  0       & 0        & 0        &  0       & 0        & ...      & 29.9     & 19.800   &  1.627   & 239.1    & 256.5    & 0.0000   &  0.95    &  85.5500 & 5        &  0      \\\\\n",
       "\t 25       & 0        & 0        & 0        &  1       &  0       & 0        & 0        &  0       & 0        & ...      & 29.9     & 19.800   &  0.054   & 231.1    & 254.5    & 0.1000   &  2.10    &  86.1700 & 5        &  6      \\\\\n",
       "\t 26       & 0        & 0        & 0        &  0       &  0       & 0        & 0        &  0       & 0        & ...      & 27.1     & 17.400   & -0.578   & 221.8    & 351.0    & 0.0000   & 17.65    & 150.0800 & 6        &  5      \\\\\n",
       "\t 27       & 0        & 0        & 0        &  0       &  0       & 0        & 0        &  0       & 0        & ...      & 27.1     & 17.400   & -0.348   & 206.8    & 405.5    & 0.0500   & 13.35    & 148.6800 & 6        &  4      \\\\\n",
       "\t 28       & 0        & 0        & 0        &  0       &  0       & 0        & 0        &  0       & 0        & ...      & 27.1     & 17.400   &  2.222   & 189.3    & 347.5    & 0.0000   &  3.80    & 124.2150 & 6        &  1      \\\\\n",
       "\t 29       & 0        & 0        & 0        &  0       &  0       & 0        & 0        &  0       & 0        & ...      & 27.1     & 17.400   & -0.893   & 179.3    & 336.0    & 0.0500   & 15.50    & 151.6650 & 6        &  6      \\\\\n",
       "\t 30       & 0        & 0        & 0        &  0       &  0       & 0        & 0        &  0       & 0        & ...      & 27.1     & 17.400   &  0.766   & 172.3    & 354.5    & 0.0000   &  7.35    & 136.9900 & 6        &  4      \\\\\n",
       "\t 31       & 0        & 0        & 0        &  0       &  0       & 0        & 0        &  0       & 0        & ...      & 27.4     & 18.400   &  0.883   & 165.8    & 266.0    & 0.0500   & 11.35    & 126.6850 & 7        &  2      \\\\\n",
       "\t 32       & 0        & 0        & 0        &  0       &  0       & 0        & 0        &  0       & 0        & ...      & 27.4     & 18.400   &  1.786   & 151.8    & 256.5    & 0.0125   & 12.65    & 118.8738 & 7        &  1      \\\\\n",
       "\t 33       & 0        & 0        & 0        &  0       &  0       & 0        & 0        &  0       & 0        & ...      & 27.4     & 18.400   &  1.375   & 193.3    & 234.0    & 0.0000   &  9.15    &  93.5850 & 7        &  1      \\\\\n",
       "\t 34       & 0        & 0        & 0        &  0       &  0       & 0        & 0        &  0       & 0        & ...      & 27.4     & 18.400   & -0.060   & 226.8    & 242.0    & 0.0000   & 16.10    & 114.0200 & 7        &  3      \\\\\n",
       "\t 35       & 0        & 0        & 0        &  0       &  0       & 0        & 0        &  0       & 0        & ...      & 27.4     & 18.400   &  0.367   & 262.3    & 284.0    & 0.0000   & 14.00    & 141.2050 & 7        &  4      \\\\\n",
       "\t 36       & 0        & 0        & 0        &  0       &  0       & 0        & 0        &  0       & 0        & ...      & 26.4     & 20.000   &  1.671   & 296.3    & 294.5    & 0.0000   &  4.95    &  94.3850 & 8        &  3      \\\\\n",
       "\t 37       & 0        & 0        & 0        &  0       &  0       & 0        & 0        &  0       & 0        & ...      & 26.4     & 20.000   & -0.375   & 342.3    & 316.5    & 0.1000   &  7.20    & 115.4450 & 8        &  5      \\\\\n",
       "\t 38       & 0        & 0        & 0        &  0       &  0       & 0        & 0        &  0       & 0        & ...      & 26.4     & 20.000   & -1.005   & 382.8    & 355.0    & 0.0000   & 16.70    & 133.0850 & 8        &  7      \\\\\n",
       "\t 39       & 0        & 0        & 0        &  0       &  0       & 0        & 0        &  0       & 0        & ...      & 26.4     & 20.000   &  0.170   & 415.8    & 362.0    & 0.0000   &  6.00    & 113.8150 & 8        &  5      \\\\\n",
       "\t 40       & 0        & 0        & 0        &  0       &  0       & 0        & 0        &  0       & 0        & ...      & 26.4     & 20.000   &  2.052   & 449.8    & 311.5    & 0.0000   &  4.75    &  93.6600 & 8        &  0      \\\\\n",
       "\t 41       & 0        & 0        & 2        &  0       &  0       & 0        & 0        &  0       & 0        & ...      & 27.1     & 20.500   & -0.356   & 489.0    & 244.5    & 0.0500   &  5.75    &  89.3900 & 9        &  7      \\\\\n",
       "\t 42       & 0        & 0        & 0        &  0       &  0       & 1        & 0        &  0       & 0        & ...      & 27.1     & 20.500   &  0.094   & 531.0    & 247.5    & 0.2000   &  4.95    &  76.9050 & 9        & 11      \\\\\n",
       "\t 43       & 0        & 0        & 0        &  0       &  0       & 0        & 0        &  0       & 0        & ...      & 27.1     & 20.500   & -0.002   & 568.5    & 223.0    & 0.0000   &  5.40    &  72.7450 & 9        &  3      \\\\\n",
       "\t 44       & 0        & 0        & 0        &  0       &  0       & 0        & 0        &  0       & 0        & ...      & 27.1     & 20.500   &  2.255   & 606.5    & 186.0    & 0.0500   &  7.10    &  77.2550 & 9        &  0      \\\\\n",
       "\t 45       & 0        & 0        & 0        &  0       &  0       & 0        & 0        &  0       & 0        & ...      & 27.1     & 20.500   &  0.865   & 624.0    & 189.5    & 0.0000   &  7.10    &  83.3200 & 9        &  2      \\\\\n",
       "\\end{tabular}\n"
      ],
      "text/markdown": [
       "\n",
       "| Sample | C1 | P1 | P2 | P3 | P4 | P5 | P6 | P7 | P8 | ... | salinity | temperature | NAP | penetrability | grainsize | humus | chalk | sorting1 | Beach | richness |\n",
       "|---|---|---|---|---|---|---|---|---|---|---|---|---|---|---|---|---|---|---|---|---|\n",
       "|  1       | 4        | 0        | 0        |  0       |  0       | 0        | 1        |  0       | 0        | ...      | 29.4     | 17.500   |  0.045   | 253.9    | 222.5    | 0.0500   |  2.05    |  69.8300 | 1        | 11       |\n",
       "|  2       | 0        | 0        | 1        |  0       |  0       | 0        | 0        |  0       | 0        | ...      | 29.4     | 17.500   | -1.036   | 226.9    | 200.0    | 0.3000   |  2.50    |  59.0000 | 1        | 10       |\n",
       "|  3       | 0        | 0        | 3        |  0       |  0       | 0        | 0        |  0       | 0        | ...      | 29.4     | 17.500   | -1.336   | 237.1    | 194.5    | 0.1000   |  3.45    |  59.2200 | 1        | 13       |\n",
       "|  4       | 0        | 0        | 0        |  0       |  0       | 0        | 0        |  0       | 0        | ...      | 29.4     | 17.500   |  0.616   | 248.6    | 221.0    | 0.1500   |  1.60    |  67.7500 | 1        | 11       |\n",
       "|  5       | 1        | 0        | 0        |  0       |  0       | 0        | 0        |  0       | 0        | ...      | 29.4     | 17.500   | -0.684   | 251.9    | 202.0    | 0.0500   |  2.45    |  57.7600 | 1        | 10       |\n",
       "|  6       | 0        | 0        | 0        |  0       |  0       | 1        | 0        |  0       | 0        | ...      | 29.6     | 20.800   |  1.190   | 250.1    | 192.5    | 0.1000   |  2.50    |  53.0750 | 2        |  8       |\n",
       "|  7       | 0        | 0        | 0        |  1       |  1       | 0        | 0        |  0       | 0        | ...      | 29.6     | 20.800   |  0.820   | 257.1    | 205.5    | 0.1000   |  1.85    |  54.4100 | 2        |  9       |\n",
       "|  8       | 0        | 0        | 0        |  0       |  0       | 0        | 0        |  0       | 0        | ...      | 29.6     | 20.800   |  0.635   | 247.9    | 211.5    | 0.1000   |  1.70    |  60.4050 | 2        |  8       |\n",
       "|  9       | 0        | 0        | 0        | 21       | 11       | 3        | 0        | 34       | 0        | ...      | 29.6     | 20.800   |  0.061   | 248.9    | 205.5    | 0.1500   |  2.30    |  58.8100 | 2        | 19       |\n",
       "| 10       | 0        | 2        | 0        |  2       |  0       | 0        | 0        |  7       | 0        | ...      | 29.6     | 20.800   | -1.334   | 257.9    | 197.0    | 0.0000   |  2.60    |  59.5750 | 2        | 17       |\n",
       "| 11       | 0        | 0        | 0        |  0       |  0       | 0        | 0        |  0       | 0        | ...      | 27.9     | 15.800   | -0.976   | 268.4    | 330.5    | 0.0500   |  3.40    | 101.3300 | 3        |  6       |\n",
       "| 12       | 0        | 0        | 0        |  0       |  0       | 0        | 0        |  0       | 0        | ...      | 27.9     | 15.800   |  1.494   | 274.4    | 272.5    | 0.0000   |  2.55    |  66.1700 | 3        |  1       |\n",
       "| 13       | 0        | 0        | 0        |  0       |  0       | 0        | 0        |  0       | 0        | ...      | 27.9     | 15.800   | -0.201   | 272.9    | 296.5    | 0.1000   |  2.20    |  83.8400 | 3        |  4       |\n",
       "| 14       | 0        | 0        | 0        |  0       |  0       | 0        | 0        |  0       | 0        | ...      | 27.9     | 15.800   | -0.482   | 261.4    | 304.0    | 0.0500   |  1.95    |  78.0750 | 3        |  3       |\n",
       "| 15       | 0        | 0        | 0        |  0       |  0       | 0        | 0        |  0       | 0        | ...      | 27.9     | 15.800   |  0.167   | 258.1    | 323.5    | 0.1000   |  1.90    | 105.9550 | 3        |  3       |\n",
       "| 16       | 0        | 0        | 0        |  0       |  0       | 0        | 0        |  0       | 0        | ...      | 28.1     | 18.775   |  1.768   | 258.4    | 293.5    | 0.0500   |  7.10    |  87.6850 | 4        |  1       |\n",
       "| 17       | 0        | 0        | 0        |  0       |  0       | 0        | 0        |  0       | 0        | ...      | 28.1     | 18.775   | -0.030   | 253.4    | 361.0    | 0.0000   | 45.75    | 248.6000 | 4        |  3       |\n",
       "| 18       | 0        | 0        | 0        |  0       |  0       | 0        | 0        |  1       | 0        | ...      | 28.1     | 18.775   |  0.460   | 268.6    | 330.5    | 0.0500   | 38.95    | 153.6250 | 4        |  3       |\n",
       "| 19       | 0        | 0        | 0        |  0       |  0       | 0        | 0        |  0       | 0        | ...      | 28.1     | 18.775   |  1.367   | 270.3    | 289.5    | 0.0000   |  4.15    |  76.4150 | 4        |  1       |\n",
       "| 20       | 0        | 0        | 0        |  0       |  0       | 0        | 0        |  0       | 0        | ...      | 28.1     | 18.775   | -0.811   | 260.3    | 297.0    | 0.0000   | 28.85    |  96.9650 | 4        |  4       |\n",
       "| 21       | 0        | 0        | 0        |  0       |  0       | 0        | 0        |  0       | 0        | ...      | 29.9     | 19.800   |  1.117   | 252.1    | 251.5    | 0.0000   |  0.85    |  80.0300 | 5        |  3       |\n",
       "| 22       | 0        | 1        | 0        |  8       |  0       | 1        | 0        |  0       | 1        | ...      | 29.9     | 19.800   | -0.503   | 256.1    | 265.0    | 0.0000   |  1.60    |  89.0350 | 5        | 22       |\n",
       "| 23       | 0        | 0        | 0        |  0       |  0       | 0        | 0        |  0       | 0        | ...      | 29.9     | 19.800   |  0.729   | 244.1    | 275.5    | 0.1000   |  2.15    | 106.7200 | 5        |  6       |\n",
       "| 24       | 0        | 0        | 0        |  0       |  0       | 0        | 0        |  0       | 0        | ...      | 29.9     | 19.800   |  1.627   | 239.1    | 256.5    | 0.0000   |  0.95    |  85.5500 | 5        |  0       |\n",
       "| 25       | 0        | 0        | 0        |  1       |  0       | 0        | 0        |  0       | 0        | ...      | 29.9     | 19.800   |  0.054   | 231.1    | 254.5    | 0.1000   |  2.10    |  86.1700 | 5        |  6       |\n",
       "| 26       | 0        | 0        | 0        |  0       |  0       | 0        | 0        |  0       | 0        | ...      | 27.1     | 17.400   | -0.578   | 221.8    | 351.0    | 0.0000   | 17.65    | 150.0800 | 6        |  5       |\n",
       "| 27       | 0        | 0        | 0        |  0       |  0       | 0        | 0        |  0       | 0        | ...      | 27.1     | 17.400   | -0.348   | 206.8    | 405.5    | 0.0500   | 13.35    | 148.6800 | 6        |  4       |\n",
       "| 28       | 0        | 0        | 0        |  0       |  0       | 0        | 0        |  0       | 0        | ...      | 27.1     | 17.400   |  2.222   | 189.3    | 347.5    | 0.0000   |  3.80    | 124.2150 | 6        |  1       |\n",
       "| 29       | 0        | 0        | 0        |  0       |  0       | 0        | 0        |  0       | 0        | ...      | 27.1     | 17.400   | -0.893   | 179.3    | 336.0    | 0.0500   | 15.50    | 151.6650 | 6        |  6       |\n",
       "| 30       | 0        | 0        | 0        |  0       |  0       | 0        | 0        |  0       | 0        | ...      | 27.1     | 17.400   |  0.766   | 172.3    | 354.5    | 0.0000   |  7.35    | 136.9900 | 6        |  4       |\n",
       "| 31       | 0        | 0        | 0        |  0       |  0       | 0        | 0        |  0       | 0        | ...      | 27.4     | 18.400   |  0.883   | 165.8    | 266.0    | 0.0500   | 11.35    | 126.6850 | 7        |  2       |\n",
       "| 32       | 0        | 0        | 0        |  0       |  0       | 0        | 0        |  0       | 0        | ...      | 27.4     | 18.400   |  1.786   | 151.8    | 256.5    | 0.0125   | 12.65    | 118.8738 | 7        |  1       |\n",
       "| 33       | 0        | 0        | 0        |  0       |  0       | 0        | 0        |  0       | 0        | ...      | 27.4     | 18.400   |  1.375   | 193.3    | 234.0    | 0.0000   |  9.15    |  93.5850 | 7        |  1       |\n",
       "| 34       | 0        | 0        | 0        |  0       |  0       | 0        | 0        |  0       | 0        | ...      | 27.4     | 18.400   | -0.060   | 226.8    | 242.0    | 0.0000   | 16.10    | 114.0200 | 7        |  3       |\n",
       "| 35       | 0        | 0        | 0        |  0       |  0       | 0        | 0        |  0       | 0        | ...      | 27.4     | 18.400   |  0.367   | 262.3    | 284.0    | 0.0000   | 14.00    | 141.2050 | 7        |  4       |\n",
       "| 36       | 0        | 0        | 0        |  0       |  0       | 0        | 0        |  0       | 0        | ...      | 26.4     | 20.000   |  1.671   | 296.3    | 294.5    | 0.0000   |  4.95    |  94.3850 | 8        |  3       |\n",
       "| 37       | 0        | 0        | 0        |  0       |  0       | 0        | 0        |  0       | 0        | ...      | 26.4     | 20.000   | -0.375   | 342.3    | 316.5    | 0.1000   |  7.20    | 115.4450 | 8        |  5       |\n",
       "| 38       | 0        | 0        | 0        |  0       |  0       | 0        | 0        |  0       | 0        | ...      | 26.4     | 20.000   | -1.005   | 382.8    | 355.0    | 0.0000   | 16.70    | 133.0850 | 8        |  7       |\n",
       "| 39       | 0        | 0        | 0        |  0       |  0       | 0        | 0        |  0       | 0        | ...      | 26.4     | 20.000   |  0.170   | 415.8    | 362.0    | 0.0000   |  6.00    | 113.8150 | 8        |  5       |\n",
       "| 40       | 0        | 0        | 0        |  0       |  0       | 0        | 0        |  0       | 0        | ...      | 26.4     | 20.000   |  2.052   | 449.8    | 311.5    | 0.0000   |  4.75    |  93.6600 | 8        |  0       |\n",
       "| 41       | 0        | 0        | 2        |  0       |  0       | 0        | 0        |  0       | 0        | ...      | 27.1     | 20.500   | -0.356   | 489.0    | 244.5    | 0.0500   |  5.75    |  89.3900 | 9        |  7       |\n",
       "| 42       | 0        | 0        | 0        |  0       |  0       | 1        | 0        |  0       | 0        | ...      | 27.1     | 20.500   |  0.094   | 531.0    | 247.5    | 0.2000   |  4.95    |  76.9050 | 9        | 11       |\n",
       "| 43       | 0        | 0        | 0        |  0       |  0       | 0        | 0        |  0       | 0        | ...      | 27.1     | 20.500   | -0.002   | 568.5    | 223.0    | 0.0000   |  5.40    |  72.7450 | 9        |  3       |\n",
       "| 44       | 0        | 0        | 0        |  0       |  0       | 0        | 0        |  0       | 0        | ...      | 27.1     | 20.500   |  2.255   | 606.5    | 186.0    | 0.0500   |  7.10    |  77.2550 | 9        |  0       |\n",
       "| 45       | 0        | 0        | 0        |  0       |  0       | 0        | 0        |  0       | 0        | ...      | 27.1     | 20.500   |  0.865   | 624.0    | 189.5    | 0.0000   |  7.10    |  83.3200 | 9        |  2       |\n",
       "\n"
      ],
      "text/plain": [
       "   Sample C1 P1 P2 P3 P4 P5 P6 P7 P8 ... salinity temperature NAP   \n",
       "1   1     4  0  0   0  0 0  1   0 0  ... 29.4     17.500       0.045\n",
       "2   2     0  0  1   0  0 0  0   0 0  ... 29.4     17.500      -1.036\n",
       "3   3     0  0  3   0  0 0  0   0 0  ... 29.4     17.500      -1.336\n",
       "4   4     0  0  0   0  0 0  0   0 0  ... 29.4     17.500       0.616\n",
       "5   5     1  0  0   0  0 0  0   0 0  ... 29.4     17.500      -0.684\n",
       "6   6     0  0  0   0  0 1  0   0 0  ... 29.6     20.800       1.190\n",
       "7   7     0  0  0   1  1 0  0   0 0  ... 29.6     20.800       0.820\n",
       "8   8     0  0  0   0  0 0  0   0 0  ... 29.6     20.800       0.635\n",
       "9   9     0  0  0  21 11 3  0  34 0  ... 29.6     20.800       0.061\n",
       "10 10     0  2  0   2  0 0  0   7 0  ... 29.6     20.800      -1.334\n",
       "11 11     0  0  0   0  0 0  0   0 0  ... 27.9     15.800      -0.976\n",
       "12 12     0  0  0   0  0 0  0   0 0  ... 27.9     15.800       1.494\n",
       "13 13     0  0  0   0  0 0  0   0 0  ... 27.9     15.800      -0.201\n",
       "14 14     0  0  0   0  0 0  0   0 0  ... 27.9     15.800      -0.482\n",
       "15 15     0  0  0   0  0 0  0   0 0  ... 27.9     15.800       0.167\n",
       "16 16     0  0  0   0  0 0  0   0 0  ... 28.1     18.775       1.768\n",
       "17 17     0  0  0   0  0 0  0   0 0  ... 28.1     18.775      -0.030\n",
       "18 18     0  0  0   0  0 0  0   1 0  ... 28.1     18.775       0.460\n",
       "19 19     0  0  0   0  0 0  0   0 0  ... 28.1     18.775       1.367\n",
       "20 20     0  0  0   0  0 0  0   0 0  ... 28.1     18.775      -0.811\n",
       "21 21     0  0  0   0  0 0  0   0 0  ... 29.9     19.800       1.117\n",
       "22 22     0  1  0   8  0 1  0   0 1  ... 29.9     19.800      -0.503\n",
       "23 23     0  0  0   0  0 0  0   0 0  ... 29.9     19.800       0.729\n",
       "24 24     0  0  0   0  0 0  0   0 0  ... 29.9     19.800       1.627\n",
       "25 25     0  0  0   1  0 0  0   0 0  ... 29.9     19.800       0.054\n",
       "26 26     0  0  0   0  0 0  0   0 0  ... 27.1     17.400      -0.578\n",
       "27 27     0  0  0   0  0 0  0   0 0  ... 27.1     17.400      -0.348\n",
       "28 28     0  0  0   0  0 0  0   0 0  ... 27.1     17.400       2.222\n",
       "29 29     0  0  0   0  0 0  0   0 0  ... 27.1     17.400      -0.893\n",
       "30 30     0  0  0   0  0 0  0   0 0  ... 27.1     17.400       0.766\n",
       "31 31     0  0  0   0  0 0  0   0 0  ... 27.4     18.400       0.883\n",
       "32 32     0  0  0   0  0 0  0   0 0  ... 27.4     18.400       1.786\n",
       "33 33     0  0  0   0  0 0  0   0 0  ... 27.4     18.400       1.375\n",
       "34 34     0  0  0   0  0 0  0   0 0  ... 27.4     18.400      -0.060\n",
       "35 35     0  0  0   0  0 0  0   0 0  ... 27.4     18.400       0.367\n",
       "36 36     0  0  0   0  0 0  0   0 0  ... 26.4     20.000       1.671\n",
       "37 37     0  0  0   0  0 0  0   0 0  ... 26.4     20.000      -0.375\n",
       "38 38     0  0  0   0  0 0  0   0 0  ... 26.4     20.000      -1.005\n",
       "39 39     0  0  0   0  0 0  0   0 0  ... 26.4     20.000       0.170\n",
       "40 40     0  0  0   0  0 0  0   0 0  ... 26.4     20.000       2.052\n",
       "41 41     0  0  2   0  0 0  0   0 0  ... 27.1     20.500      -0.356\n",
       "42 42     0  0  0   0  0 1  0   0 0  ... 27.1     20.500       0.094\n",
       "43 43     0  0  0   0  0 0  0   0 0  ... 27.1     20.500      -0.002\n",
       "44 44     0  0  0   0  0 0  0   0 0  ... 27.1     20.500       2.255\n",
       "45 45     0  0  0   0  0 0  0   0 0  ... 27.1     20.500       0.865\n",
       "   penetrability grainsize humus  chalk sorting1 Beach richness\n",
       "1  253.9         222.5     0.0500  2.05  69.8300 1     11      \n",
       "2  226.9         200.0     0.3000  2.50  59.0000 1     10      \n",
       "3  237.1         194.5     0.1000  3.45  59.2200 1     13      \n",
       "4  248.6         221.0     0.1500  1.60  67.7500 1     11      \n",
       "5  251.9         202.0     0.0500  2.45  57.7600 1     10      \n",
       "6  250.1         192.5     0.1000  2.50  53.0750 2      8      \n",
       "7  257.1         205.5     0.1000  1.85  54.4100 2      9      \n",
       "8  247.9         211.5     0.1000  1.70  60.4050 2      8      \n",
       "9  248.9         205.5     0.1500  2.30  58.8100 2     19      \n",
       "10 257.9         197.0     0.0000  2.60  59.5750 2     17      \n",
       "11 268.4         330.5     0.0500  3.40 101.3300 3      6      \n",
       "12 274.4         272.5     0.0000  2.55  66.1700 3      1      \n",
       "13 272.9         296.5     0.1000  2.20  83.8400 3      4      \n",
       "14 261.4         304.0     0.0500  1.95  78.0750 3      3      \n",
       "15 258.1         323.5     0.1000  1.90 105.9550 3      3      \n",
       "16 258.4         293.5     0.0500  7.10  87.6850 4      1      \n",
       "17 253.4         361.0     0.0000 45.75 248.6000 4      3      \n",
       "18 268.6         330.5     0.0500 38.95 153.6250 4      3      \n",
       "19 270.3         289.5     0.0000  4.15  76.4150 4      1      \n",
       "20 260.3         297.0     0.0000 28.85  96.9650 4      4      \n",
       "21 252.1         251.5     0.0000  0.85  80.0300 5      3      \n",
       "22 256.1         265.0     0.0000  1.60  89.0350 5     22      \n",
       "23 244.1         275.5     0.1000  2.15 106.7200 5      6      \n",
       "24 239.1         256.5     0.0000  0.95  85.5500 5      0      \n",
       "25 231.1         254.5     0.1000  2.10  86.1700 5      6      \n",
       "26 221.8         351.0     0.0000 17.65 150.0800 6      5      \n",
       "27 206.8         405.5     0.0500 13.35 148.6800 6      4      \n",
       "28 189.3         347.5     0.0000  3.80 124.2150 6      1      \n",
       "29 179.3         336.0     0.0500 15.50 151.6650 6      6      \n",
       "30 172.3         354.5     0.0000  7.35 136.9900 6      4      \n",
       "31 165.8         266.0     0.0500 11.35 126.6850 7      2      \n",
       "32 151.8         256.5     0.0125 12.65 118.8738 7      1      \n",
       "33 193.3         234.0     0.0000  9.15  93.5850 7      1      \n",
       "34 226.8         242.0     0.0000 16.10 114.0200 7      3      \n",
       "35 262.3         284.0     0.0000 14.00 141.2050 7      4      \n",
       "36 296.3         294.5     0.0000  4.95  94.3850 8      3      \n",
       "37 342.3         316.5     0.1000  7.20 115.4450 8      5      \n",
       "38 382.8         355.0     0.0000 16.70 133.0850 8      7      \n",
       "39 415.8         362.0     0.0000  6.00 113.8150 8      5      \n",
       "40 449.8         311.5     0.0000  4.75  93.6600 8      0      \n",
       "41 489.0         244.5     0.0500  5.75  89.3900 9      7      \n",
       "42 531.0         247.5     0.2000  4.95  76.9050 9     11      \n",
       "43 568.5         223.0     0.0000  5.40  72.7450 9      3      \n",
       "44 606.5         186.0     0.0500  7.10  77.2550 9      0      \n",
       "45 624.0         189.5     0.0000  7.10  83.3200 9      2      "
      ]
     },
     "metadata": {},
     "output_type": "display_data"
    }
   ],
   "source": [
    "survey_data <- survey_data %>%\n",
    "    add_column(richness = (survey_data[1:45,2:76]>0) %>% apply( 1, sum))\n",
    "\n",
    "survey_data"
   ]
  },
  {
   "cell_type": "code",
   "execution_count": 87,
   "id": "cef1fbe7",
   "metadata": {},
   "outputs": [
    {
     "data": {
      "text/html": [
       "<table>\n",
       "<thead><tr><th scope=col>week</th><th scope=col>angle1</th><th scope=col>angle2</th><th scope=col>exposure</th><th scope=col>salinity</th><th scope=col>temperature</th><th scope=col>NAP</th><th scope=col>penetrability</th><th scope=col>grainsize</th><th scope=col>humus</th><th scope=col>chalk</th><th scope=col>sorting1</th><th scope=col>Beach</th><th scope=col>richness</th></tr></thead>\n",
       "<tbody>\n",
       "\t<tr><td>1     </td><td> 32   </td><td>96    </td><td>10    </td><td>29.4  </td><td>17.5  </td><td> 0.045</td><td>253.9 </td><td>222.5 </td><td>0.05  </td><td>2.05  </td><td>69.830</td><td>1     </td><td>11    </td></tr>\n",
       "\t<tr><td>1     </td><td> 62   </td><td>96    </td><td>10    </td><td>29.4  </td><td>17.5  </td><td>-1.036</td><td>226.9 </td><td>200.0 </td><td>0.30  </td><td>2.50  </td><td>59.000</td><td>1     </td><td>10    </td></tr>\n",
       "\t<tr><td>1     </td><td> 65   </td><td>96    </td><td>10    </td><td>29.4  </td><td>17.5  </td><td>-1.336</td><td>237.1 </td><td>194.5 </td><td>0.10  </td><td>3.45  </td><td>59.220</td><td>1     </td><td>13    </td></tr>\n",
       "\t<tr><td>1     </td><td> 55   </td><td>96    </td><td>10    </td><td>29.4  </td><td>17.5  </td><td> 0.616</td><td>248.6 </td><td>221.0 </td><td>0.15  </td><td>1.60  </td><td>67.750</td><td>1     </td><td>11    </td></tr>\n",
       "\t<tr><td>1     </td><td> 23   </td><td>96    </td><td>10    </td><td>29.4  </td><td>17.5  </td><td>-0.684</td><td>251.9 </td><td>202.0 </td><td>0.05  </td><td>2.45  </td><td>57.760</td><td>1     </td><td>10    </td></tr>\n",
       "\t<tr><td>1     </td><td>129   </td><td>89    </td><td> 8    </td><td>29.6  </td><td>20.8  </td><td> 1.190</td><td>250.1 </td><td>192.5 </td><td>0.10  </td><td>2.50  </td><td>53.075</td><td>2     </td><td> 8    </td></tr>\n",
       "</tbody>\n",
       "</table>\n"
      ],
      "text/latex": [
       "\\begin{tabular}{r|llllllllllllll}\n",
       " week & angle1 & angle2 & exposure & salinity & temperature & NAP & penetrability & grainsize & humus & chalk & sorting1 & Beach & richness\\\\\n",
       "\\hline\n",
       "\t 1      &  32    & 96     & 10     & 29.4   & 17.5   &  0.045 & 253.9  & 222.5  & 0.05   & 2.05   & 69.830 & 1      & 11    \\\\\n",
       "\t 1      &  62    & 96     & 10     & 29.4   & 17.5   & -1.036 & 226.9  & 200.0  & 0.30   & 2.50   & 59.000 & 1      & 10    \\\\\n",
       "\t 1      &  65    & 96     & 10     & 29.4   & 17.5   & -1.336 & 237.1  & 194.5  & 0.10   & 3.45   & 59.220 & 1      & 13    \\\\\n",
       "\t 1      &  55    & 96     & 10     & 29.4   & 17.5   &  0.616 & 248.6  & 221.0  & 0.15   & 1.60   & 67.750 & 1      & 11    \\\\\n",
       "\t 1      &  23    & 96     & 10     & 29.4   & 17.5   & -0.684 & 251.9  & 202.0  & 0.05   & 2.45   & 57.760 & 1      & 10    \\\\\n",
       "\t 1      & 129    & 89     &  8     & 29.6   & 20.8   &  1.190 & 250.1  & 192.5  & 0.10   & 2.50   & 53.075 & 2      &  8    \\\\\n",
       "\\end{tabular}\n"
      ],
      "text/markdown": [
       "\n",
       "| week | angle1 | angle2 | exposure | salinity | temperature | NAP | penetrability | grainsize | humus | chalk | sorting1 | Beach | richness |\n",
       "|---|---|---|---|---|---|---|---|---|---|---|---|---|---|\n",
       "| 1      |  32    | 96     | 10     | 29.4   | 17.5   |  0.045 | 253.9  | 222.5  | 0.05   | 2.05   | 69.830 | 1      | 11     |\n",
       "| 1      |  62    | 96     | 10     | 29.4   | 17.5   | -1.036 | 226.9  | 200.0  | 0.30   | 2.50   | 59.000 | 1      | 10     |\n",
       "| 1      |  65    | 96     | 10     | 29.4   | 17.5   | -1.336 | 237.1  | 194.5  | 0.10   | 3.45   | 59.220 | 1      | 13     |\n",
       "| 1      |  55    | 96     | 10     | 29.4   | 17.5   |  0.616 | 248.6  | 221.0  | 0.15   | 1.60   | 67.750 | 1      | 11     |\n",
       "| 1      |  23    | 96     | 10     | 29.4   | 17.5   | -0.684 | 251.9  | 202.0  | 0.05   | 2.45   | 57.760 | 1      | 10     |\n",
       "| 1      | 129    | 89     |  8     | 29.6   | 20.8   |  1.190 | 250.1  | 192.5  | 0.10   | 2.50   | 53.075 | 2      |  8     |\n",
       "\n"
      ],
      "text/plain": [
       "  week angle1 angle2 exposure salinity temperature NAP    penetrability\n",
       "1 1     32    96     10       29.4     17.5         0.045 253.9        \n",
       "2 1     62    96     10       29.4     17.5        -1.036 226.9        \n",
       "3 1     65    96     10       29.4     17.5        -1.336 237.1        \n",
       "4 1     55    96     10       29.4     17.5         0.616 248.6        \n",
       "5 1     23    96     10       29.4     17.5        -0.684 251.9        \n",
       "6 1    129    89      8       29.6     20.8         1.190 250.1        \n",
       "  grainsize humus chalk sorting1 Beach richness\n",
       "1 222.5     0.05  2.05  69.830   1     11      \n",
       "2 200.0     0.30  2.50  59.000   1     10      \n",
       "3 194.5     0.10  3.45  59.220   1     13      \n",
       "4 221.0     0.15  1.60  67.750   1     11      \n",
       "5 202.0     0.05  2.45  57.760   1     10      \n",
       "6 192.5     0.10  2.50  53.075   2      8      "
      ]
     },
     "metadata": {},
     "output_type": "display_data"
    }
   ],
   "source": [
    "survey_data_richness = survey_data[ , 77:90]\n",
    "head(survey_data_richness)"
   ]
  },
  {
   "cell_type": "markdown",
   "id": "029ce481",
   "metadata": {},
   "source": [
    "## Question 6 and 7"
   ]
  },
  {
   "cell_type": "code",
   "execution_count": 41,
   "id": "b51c7756",
   "metadata": {},
   "outputs": [],
   "source": [
    "library(readr)\n",
    "library(dplyr)\n",
    "library(ggplot2)"
   ]
  },
  {
   "cell_type": "code",
   "execution_count": 85,
   "id": "71b504ca",
   "metadata": {
    "scrolled": false
   },
   "outputs": [
    {
     "data": {
      "text/plain": [
       "\n",
       "Call:\n",
       "lm(formula = richness ~ angle1 + angle2 + exposure + salinity + \n",
       "    temperature + NAP + penetrability + grainsize + humus + chalk + \n",
       "    sorting1 + Beach, data = survey_data_richness)\n",
       "\n",
       "Residuals:\n",
       "    Min      1Q  Median      3Q     Max \n",
       "-4.4344 -1.3933 -0.5195  0.7726 11.6044 \n",
       "\n",
       "Coefficients:\n",
       "                Estimate Std. Error t value Pr(>|t|)    \n",
       "(Intercept)   -43.371160  47.580750  -0.912    0.369    \n",
       "angle1         -0.009397   0.010924  -0.860    0.396    \n",
       "angle2          0.053760   0.040977   1.312    0.199    \n",
       "exposure       -0.541853   1.856944  -0.292    0.772    \n",
       "salinity        1.020630   1.311337   0.778    0.442    \n",
       "temperature     1.195516   1.230227   0.972    0.338    \n",
       "NAP            -2.765120   0.580865  -4.760 3.98e-05 ***\n",
       "penetrability  -0.006443   0.007021  -0.918    0.366    \n",
       "grainsize       0.019833   0.030860   0.643    0.525    \n",
       "humus           0.306015   9.087738   0.034    0.973    \n",
       "chalk          -0.137526   0.138167  -0.995    0.327    \n",
       "sorting1        0.004968   0.042032   0.118    0.907    \n",
       "Beach          -0.228777   0.782530  -0.292    0.772    \n",
       "---\n",
       "Signif. codes:  0 ‘***’ 0.001 ‘**’ 0.01 ‘*’ 0.05 ‘.’ 0.1 ‘ ’ 1\n",
       "\n",
       "Residual standard error: 3.105 on 32 degrees of freedom\n",
       "Multiple R-squared:   0.72,\tAdjusted R-squared:  0.615 \n",
       "F-statistic: 6.858 on 12 and 32 DF,  p-value: 6.314e-06\n"
      ]
     },
     "metadata": {},
     "output_type": "display_data"
    }
   ],
   "source": [
    "my_model = lm(richness ~ angle1 + angle2 + \n",
    "              exposure + salinity + temperature + NAP + \n",
    "              penetrability + grainsize + humus + chalk + \n",
    "              sorting1+ Beach, data=survey_data_richness)\n",
    "summary(my_model)"
   ]
  },
  {
   "cell_type": "code",
   "execution_count": 91,
   "id": "38dfc145",
   "metadata": {},
   "outputs": [],
   "source": [
    "## why did the above change values when I include all variables vs just chalk and humus? \n",
    "## NAP has significant effect.. things like angle1, penetrability and sorting1 have very little impact"
   ]
  },
  {
   "cell_type": "code",
   "execution_count": 88,
   "id": "8c0e1240",
   "metadata": {
    "scrolled": false
   },
   "outputs": [
    {
     "data": {
      "text/plain": [
       "\n",
       "Call:\n",
       "lm(formula = richness ~ humus + chalk, data = survey_data_richness)\n",
       "\n",
       "Residuals:\n",
       "    Min      1Q  Median      3Q     Max \n",
       "-5.7509 -3.2179 -0.6013  1.4040 17.2210 \n",
       "\n",
       "Coefficients:\n",
       "            Estimate Std. Error t value Pr(>|t|)    \n",
       "(Intercept)  4.90893    1.17004   4.196 0.000138 ***\n",
       "humus       28.37324   11.39072   2.491 0.016779 *  \n",
       "chalk       -0.08122    0.07632  -1.064 0.293356    \n",
       "---\n",
       "Signif. codes:  0 ‘***’ 0.001 ‘**’ 0.01 ‘*’ 0.05 ‘.’ 0.1 ‘ ’ 1\n",
       "\n",
       "Residual standard error: 4.62 on 42 degrees of freedom\n",
       "Multiple R-squared:  0.1863,\tAdjusted R-squared:  0.1475 \n",
       "F-statistic: 4.808 on 2 and 42 DF,  p-value: 0.01318\n"
      ]
     },
     "metadata": {},
     "output_type": "display_data"
    }
   ],
   "source": [
    "my_model = lm(richness ~ humus + chalk, data=survey_data_richness)\n",
    "summary(my_model)"
   ]
  },
  {
   "cell_type": "markdown",
   "id": "56d84bc9",
   "metadata": {},
   "source": [
    "## Question 8"
   ]
  },
  {
   "cell_type": "code",
   "execution_count": 89,
   "id": "5e28278b",
   "metadata": {
    "scrolled": false
   },
   "outputs": [
    {
     "data": {
      "text/plain": [
       "\n",
       "Call:\n",
       "lm(formula = richness ~ ., data = survey_data_richness)\n",
       "\n",
       "Residuals:\n",
       "    Min      1Q  Median      3Q     Max \n",
       "-4.5434 -1.3910 -0.2209  0.8268 11.6548 \n",
       "\n",
       "Coefficients:\n",
       "                Estimate Std. Error t value Pr(>|t|)    \n",
       "(Intercept)   -21.714257  62.877690  -0.345    0.732    \n",
       "week            1.537678   2.873627   0.535    0.596    \n",
       "angle1         -0.008529   0.011166  -0.764    0.451    \n",
       "angle2          0.078737   0.062419   1.261    0.217    \n",
       "exposure       -0.192513   1.988243  -0.097    0.923    \n",
       "salinity       -0.149684   2.557775  -0.059    0.954    \n",
       "temperature     1.645499   1.501715   1.096    0.282    \n",
       "NAP            -2.727377   0.591672  -4.610 6.55e-05 ***\n",
       "penetrability  -0.008968   0.008525  -1.052    0.301    \n",
       "grainsize       0.015923   0.032054   0.497    0.623    \n",
       "humus          -0.361549   9.275088  -0.039    0.969    \n",
       "chalk          -0.127028   0.141104  -0.900    0.375    \n",
       "sorting1        0.004410   0.042521   0.104    0.918    \n",
       "Beach          -1.044276   1.717248  -0.608    0.548    \n",
       "---\n",
       "Signif. codes:  0 ‘***’ 0.001 ‘**’ 0.01 ‘*’ 0.05 ‘.’ 0.1 ‘ ’ 1\n",
       "\n",
       "Residual standard error: 3.14 on 31 degrees of freedom\n",
       "Multiple R-squared:  0.7226,\tAdjusted R-squared:  0.6063 \n",
       "F-statistic: 6.211 on 13 and 31 DF,  p-value: 1.527e-05\n"
      ]
     },
     "metadata": {},
     "output_type": "display_data"
    }
   ],
   "source": [
    "my_model = lm(richness ~ ., data=survey_data_richness)\n",
    "summary(my_model)"
   ]
  },
  {
   "cell_type": "code",
   "execution_count": 93,
   "id": "34dd591b",
   "metadata": {},
   "outputs": [],
   "source": [
    "## R2 value is 0.6063.. \n",
    "## can fit better by removing variables with small influence \n",
    "## and including interaction between variables"
   ]
  },
  {
   "cell_type": "markdown",
   "id": "6e3a70d6",
   "metadata": {},
   "source": [
    "## Question 9 "
   ]
  },
  {
   "cell_type": "code",
   "execution_count": 90,
   "id": "7500b0a5",
   "metadata": {
    "scrolled": false
   },
   "outputs": [
    {
     "data": {
      "text/plain": [
       "\n",
       "Call:\n",
       "lm(formula = richness ~ (NAP + humus + week + temperature + Beach + \n",
       "    exposure)^2, data = survey_data_richness)\n",
       "\n",
       "Residuals:\n",
       "    Min      1Q  Median      3Q     Max \n",
       "-2.5431 -1.2955  0.2008  1.0693  3.1187 \n",
       "\n",
       "Coefficients: (2 not defined because of singularities)\n",
       "                     Estimate Std. Error t value Pr(>|t|)    \n",
       "(Intercept)           93.7473   174.8374   0.536 0.596562    \n",
       "NAP                  -16.2993    17.2738  -0.944 0.354412    \n",
       "humus                448.8751   560.0204   0.802 0.430376    \n",
       "week                 -47.3346    90.8420  -0.521 0.606907    \n",
       "temperature           -3.0310     4.8275  -0.628 0.535789    \n",
       "Beach                  7.2087     4.7040   1.532 0.137972    \n",
       "exposure              -2.8755     9.0345  -0.318 0.752915    \n",
       "NAP:humus             22.7491    10.0872   2.255 0.033121 *  \n",
       "NAP:week              -2.5208     0.6325  -3.986 0.000514 ***\n",
       "NAP:temperature       -0.3111     0.4990  -0.623 0.538722    \n",
       "NAP:Beach              0.9338     0.2524   3.699 0.001068 ** \n",
       "NAP:exposure           1.9347     0.9149   2.115 0.044616 *  \n",
       "humus:week           -38.8066    11.9478  -3.248 0.003303 ** \n",
       "humus:temperature     -4.7560    16.6195  -0.286 0.777108    \n",
       "humus:Beach           12.9864     5.7398   2.263 0.032607 *  \n",
       "humus:exposure       -32.4232    29.0093  -1.118 0.274329    \n",
       "week:temperature       2.2070     2.1669   1.019 0.318184    \n",
       "week:Beach             0.5811     0.7124   0.816 0.422337    \n",
       "week:exposure          0.6621     5.2397   0.126 0.900451    \n",
       "temperature:Beach     -0.5050     0.2952  -1.711 0.099497 .  \n",
       "temperature:exposure       NA         NA      NA       NA    \n",
       "Beach:exposure             NA         NA      NA       NA    \n",
       "---\n",
       "Signif. codes:  0 ‘***’ 0.001 ‘**’ 0.01 ‘*’ 0.05 ‘.’ 0.1 ‘ ’ 1\n",
       "\n",
       "Residual standard error: 1.996 on 25 degrees of freedom\n",
       "Multiple R-squared:  0.9095,\tAdjusted R-squared:  0.8408 \n",
       "F-statistic: 13.23 on 19 and 25 DF,  p-value: 1.076e-08\n"
      ]
     },
     "metadata": {},
     "output_type": "display_data"
    }
   ],
   "source": [
    "my_model = lm(richness ~ (NAP+humus+week+temperature+Beach+exposure)^2, data=survey_data_richness)\n",
    "summary(my_model)"
   ]
  },
  {
   "cell_type": "code",
   "execution_count": null,
   "id": "a9e3c61e",
   "metadata": {},
   "outputs": [],
   "source": [
    "## including interaction substantially increads R2"
   ]
  },
  {
   "cell_type": "markdown",
   "id": "3b5cde88",
   "metadata": {},
   "source": [
    "## Trying to Graph"
   ]
  },
  {
   "cell_type": "code",
   "execution_count": 75,
   "id": "aba5e430",
   "metadata": {},
   "outputs": [
    {
     "data": {
      "image/png": "[encoded data removed]",
      "text/plain": [
       "plot without title"
      ]
     },
     "metadata": {},
     "output_type": "display_data"
    }
   ],
   "source": [
    "ggplot(survey_data_richness, aes(x = Sample, y = richness, col = salinity)) + \n",
    "  geom_point() + \n",
    "  geom_smooth(method = lm, se = FALSE, formula=y ~ x) + \n",
    "  labs(x = \"Sample\", y = \"richness\")"
   ]
  },
  {
   "cell_type": "code",
   "execution_count": 69,
   "id": "4df316b0",
   "metadata": {
    "scrolled": true
   },
   "outputs": [
    {
     "name": "stderr",
     "output_type": "stream",
     "text": [
      "Warning message:\n",
      "“Ignoring unknown parameters: fun”Warning message:\n",
      "“Continuous x aesthetic -- did you forget aes(group=...)?”No summary function supplied, defaulting to `mean_se()\n"
     ]
    },
    {
     "data": {
      "image/png": "[encoded data removed]",
      "text/plain": [
       "plot without title"
      ]
     },
     "metadata": {},
     "output_type": "display_data"
    }
   ],
   "source": [
    "ggplot(survey_data_richness, aes(salinity, richness)) + \n",
    "  geom_boxplot() + \n",
    "  stat_summary(fun = mean)"
   ]
  },
  {
   "cell_type": "code",
   "execution_count": 73,
   "id": "0e30333f",
   "metadata": {},
   "outputs": [
    {
     "name": "stderr",
     "output_type": "stream",
     "text": [
      "also installing the dependencies ‘glue’, ‘lifecycle’, ‘rlang’, ‘tidyselect’, ‘vctrs’, ‘pillar’, ‘ellipsis’, ‘dplyr’, ‘tibble’, ‘janitor’, ‘infer’\n",
      "\n",
      "Warning message in download.file(url, destfile, method, mode = \"wb\", ...):\n",
      "“downloaded length 409600 != reported length 861658”Warning message in download.file(url, destfile, method, mode = \"wb\", ...):\n",
      "“URL 'https://cran.r-project.org/src/contrib/rlang_0.4.12.tar.gz': status was 'Failure when receiving data from the peer'”"
     ]
    },
    {
     "name": "stdout",
     "output_type": "stream",
     "text": [
      "Error in download.file(url, destfile, method, mode = \"wb\", ...) : \n",
      "  download from 'https://cran.r-project.org/src/contrib/rlang_0.4.12.tar.gz' failed\n"
     ]
    },
    {
     "name": "stderr",
     "output_type": "stream",
     "text": [
      "Warning message in download.packages(pkgs, destdir = tmpd, available = available, :\n",
      "“download of package ‘rlang’ failed”Warning message in install.packages(\"moderndive\"):\n",
      "“installation of package ‘glue’ had non-zero exit status”Warning message in install.packages(\"moderndive\"):\n",
      "“installation of package ‘ellipsis’ had non-zero exit status”Warning message in install.packages(\"moderndive\"):\n",
      "“installation of package ‘lifecycle’ had non-zero exit status”Warning message in install.packages(\"moderndive\"):\n",
      "“installation of package ‘vctrs’ had non-zero exit status”Warning message in install.packages(\"moderndive\"):\n",
      "“installation of package ‘tidyselect’ had non-zero exit status”Warning message in install.packages(\"moderndive\"):\n",
      "“installation of package ‘pillar’ had non-zero exit status”Warning message in install.packages(\"moderndive\"):\n",
      "“installation of package ‘tibble’ had non-zero exit status”Warning message in install.packages(\"moderndive\"):\n",
      "“installation of package ‘dplyr’ had non-zero exit status”Warning message in install.packages(\"moderndive\"):\n",
      "“installation of package ‘janitor’ had non-zero exit status”Warning message in install.packages(\"moderndive\"):\n",
      "“installation of package ‘infer’ had non-zero exit status”Warning message in install.packages(\"moderndive\"):\n",
      "“installation of package ‘moderndive’ had non-zero exit status”Updating HTML index of packages in '.Library'\n",
      "Making 'packages.html' ... done\n"
     ]
    }
   ],
   "source": [
    "install.packages(\"moderndive\")"
   ]
  }
 ],
 "metadata": {
  "kernelspec": {
   "display_name": "R",
   "language": "R",
   "name": "ir"
  },
  "language_info": {
   "codemirror_mode": "r",
   "file_extension": ".r",
   "mimetype": "text/x-r-source",
   "name": "R",
   "pygments_lexer": "r",
   "version": "3.6.1"
  }
 },
 "nbformat": 4,
 "nbformat_minor": 5
}
